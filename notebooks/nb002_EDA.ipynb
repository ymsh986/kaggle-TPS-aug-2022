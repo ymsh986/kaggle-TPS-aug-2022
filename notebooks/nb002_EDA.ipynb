{
 "cells": [
  {
   "cell_type": "markdown",
   "metadata": {},
   "source": [
    "# TPS-Aug-2022"
   ]
  },
  {
   "cell_type": "code",
   "execution_count": 1,
   "metadata": {},
   "outputs": [],
   "source": [
    "class Config:\n",
    "    NB = '002'\n",
    "\n",
    "    raw_data_dir = '../data/raw/'\n",
    "    processed_data_dir = '../data/processed/'\n",
    "    interim_dir = '../data/interim/'\n",
    "    submission_dir = '../data/submission/'\n",
    "\n",
    "    random_seed = 42\n",
    "    n_folds = 5\n",
    "\n",
    "    row_id = 'id'\n",
    "    target = 'failure'"
   ]
  },
  {
   "cell_type": "markdown",
   "metadata": {},
   "source": [
    "## Import libralies"
   ]
  },
  {
   "cell_type": "code",
   "execution_count": 2,
   "metadata": {},
   "outputs": [],
   "source": [
    "import gc\n",
    "import warnings\n",
    "warnings.filterwarnings('ignore')\n",
    "\n",
    "import scipy as sp\n",
    "import numpy as np\n",
    "import pandas as pd\n",
    "pd.set_option('display.max_rows', 500)\n",
    "pd.set_option('display.max_columns', 500)\n",
    "pd.set_option('display.width', 1000)\n",
    "from tqdm.auto import tqdm\n",
    "import itertools\n",
    "\n",
    "import matplotlib.pyplot as plt\n",
    "import seaborn as sns\n",
    "\n",
    "%matplotlib inline\n",
    "sns.set(style='white', context='notebook', palette='deep')"
   ]
  },
  {
   "cell_type": "code",
   "execution_count": 3,
   "metadata": {},
   "outputs": [],
   "source": [
    "import plotly.graph_objects as go\n",
    "from plotly.subplots import make_subplots\n",
    "\n",
    "plotly_template = dict(\n",
    "    layout=go.Layout(\n",
    "        template='plotly_dark',\n",
    "        font=dict(\n",
    "            family=\"Franklin Gothic\",\n",
    "            size=12\n",
    "        ),\n",
    "        height=500,\n",
    "        width=1000,\n",
    "    )\n",
    ")\n",
    "\n",
    "\n",
    "color_palette = {\n",
    "    'Bin': ['#016CC9','#E876A3'],\n",
    "    'Cat5': ['#E876A3', '#E0A224', '#63B70D', '#6BCFF6', '#13399E'],\n",
    "}"
   ]
  },
  {
   "cell_type": "markdown",
   "metadata": {},
   "source": [
    "## Load and check data"
   ]
  },
  {
   "cell_type": "markdown",
   "metadata": {},
   "source": [
    "### Load data"
   ]
  },
  {
   "cell_type": "code",
   "execution_count": 4,
   "metadata": {},
   "outputs": [],
   "source": [
    "# Load data\n",
    "##### Load train and Test set\n",
    "\n",
    "df_train = pd.read_csv(\"../data/raw/train.csv\")\n",
    "df_test = pd.read_csv(\"../data/raw/test.csv\")"
   ]
  },
  {
   "cell_type": "code",
   "execution_count": 5,
   "metadata": {},
   "outputs": [
    {
     "data": {
      "text/html": [
       "<div>\n",
       "<style scoped>\n",
       "    .dataframe tbody tr th:only-of-type {\n",
       "        vertical-align: middle;\n",
       "    }\n",
       "\n",
       "    .dataframe tbody tr th {\n",
       "        vertical-align: top;\n",
       "    }\n",
       "\n",
       "    .dataframe thead th {\n",
       "        text-align: right;\n",
       "    }\n",
       "</style>\n",
       "<table border=\"1\" class=\"dataframe\">\n",
       "  <thead>\n",
       "    <tr style=\"text-align: right;\">\n",
       "      <th></th>\n",
       "      <th>id</th>\n",
       "      <th>loading</th>\n",
       "      <th>attribute_2</th>\n",
       "      <th>attribute_3</th>\n",
       "      <th>measurement_0</th>\n",
       "      <th>measurement_1</th>\n",
       "      <th>measurement_2</th>\n",
       "      <th>measurement_3</th>\n",
       "      <th>measurement_4</th>\n",
       "      <th>measurement_5</th>\n",
       "      <th>measurement_6</th>\n",
       "      <th>measurement_7</th>\n",
       "      <th>measurement_8</th>\n",
       "      <th>measurement_9</th>\n",
       "      <th>measurement_10</th>\n",
       "      <th>measurement_11</th>\n",
       "      <th>measurement_12</th>\n",
       "      <th>measurement_13</th>\n",
       "      <th>measurement_14</th>\n",
       "      <th>measurement_15</th>\n",
       "      <th>measurement_16</th>\n",
       "      <th>measurement_17</th>\n",
       "      <th>failure</th>\n",
       "    </tr>\n",
       "  </thead>\n",
       "  <tbody>\n",
       "    <tr>\n",
       "      <th>count</th>\n",
       "      <td>26570.000000</td>\n",
       "      <td>26320.000000</td>\n",
       "      <td>26570.000000</td>\n",
       "      <td>26570.000000</td>\n",
       "      <td>26570.000000</td>\n",
       "      <td>26570.000000</td>\n",
       "      <td>26570.000000</td>\n",
       "      <td>26189.000000</td>\n",
       "      <td>26032.000000</td>\n",
       "      <td>25894.000000</td>\n",
       "      <td>25774.000000</td>\n",
       "      <td>25633.000000</td>\n",
       "      <td>25522.000000</td>\n",
       "      <td>25343.000000</td>\n",
       "      <td>25270.000000</td>\n",
       "      <td>25102.000000</td>\n",
       "      <td>24969.000000</td>\n",
       "      <td>24796.000000</td>\n",
       "      <td>24696.000000</td>\n",
       "      <td>24561.000000</td>\n",
       "      <td>24460.000000</td>\n",
       "      <td>24286.000000</td>\n",
       "      <td>26570.000000</td>\n",
       "    </tr>\n",
       "    <tr>\n",
       "      <th>mean</th>\n",
       "      <td>13284.500000</td>\n",
       "      <td>127.826233</td>\n",
       "      <td>6.754046</td>\n",
       "      <td>7.240459</td>\n",
       "      <td>7.415883</td>\n",
       "      <td>8.232518</td>\n",
       "      <td>6.256568</td>\n",
       "      <td>17.791528</td>\n",
       "      <td>11.731988</td>\n",
       "      <td>17.127804</td>\n",
       "      <td>17.510759</td>\n",
       "      <td>11.716624</td>\n",
       "      <td>19.024714</td>\n",
       "      <td>11.430725</td>\n",
       "      <td>16.117711</td>\n",
       "      <td>19.172085</td>\n",
       "      <td>11.702464</td>\n",
       "      <td>15.652904</td>\n",
       "      <td>16.048444</td>\n",
       "      <td>14.995554</td>\n",
       "      <td>16.460727</td>\n",
       "      <td>701.269059</td>\n",
       "      <td>0.212608</td>\n",
       "    </tr>\n",
       "    <tr>\n",
       "      <th>std</th>\n",
       "      <td>7670.242662</td>\n",
       "      <td>39.030020</td>\n",
       "      <td>1.471852</td>\n",
       "      <td>1.456493</td>\n",
       "      <td>4.116690</td>\n",
       "      <td>4.199401</td>\n",
       "      <td>3.309109</td>\n",
       "      <td>1.001200</td>\n",
       "      <td>0.996085</td>\n",
       "      <td>0.996414</td>\n",
       "      <td>0.995980</td>\n",
       "      <td>1.000836</td>\n",
       "      <td>1.008591</td>\n",
       "      <td>0.999137</td>\n",
       "      <td>1.405978</td>\n",
       "      <td>1.520785</td>\n",
       "      <td>1.488838</td>\n",
       "      <td>1.155247</td>\n",
       "      <td>1.491923</td>\n",
       "      <td>1.549226</td>\n",
       "      <td>1.708935</td>\n",
       "      <td>123.304161</td>\n",
       "      <td>0.409160</td>\n",
       "    </tr>\n",
       "    <tr>\n",
       "      <th>min</th>\n",
       "      <td>0.000000</td>\n",
       "      <td>33.160000</td>\n",
       "      <td>5.000000</td>\n",
       "      <td>5.000000</td>\n",
       "      <td>0.000000</td>\n",
       "      <td>0.000000</td>\n",
       "      <td>0.000000</td>\n",
       "      <td>13.968000</td>\n",
       "      <td>8.008000</td>\n",
       "      <td>12.073000</td>\n",
       "      <td>12.715000</td>\n",
       "      <td>7.968000</td>\n",
       "      <td>15.217000</td>\n",
       "      <td>7.537000</td>\n",
       "      <td>9.323000</td>\n",
       "      <td>12.461000</td>\n",
       "      <td>5.167000</td>\n",
       "      <td>10.890000</td>\n",
       "      <td>9.140000</td>\n",
       "      <td>9.104000</td>\n",
       "      <td>9.701000</td>\n",
       "      <td>196.787000</td>\n",
       "      <td>0.000000</td>\n",
       "    </tr>\n",
       "    <tr>\n",
       "      <th>25%</th>\n",
       "      <td>6642.250000</td>\n",
       "      <td>99.987500</td>\n",
       "      <td>6.000000</td>\n",
       "      <td>6.000000</td>\n",
       "      <td>4.000000</td>\n",
       "      <td>5.000000</td>\n",
       "      <td>4.000000</td>\n",
       "      <td>17.117000</td>\n",
       "      <td>11.051000</td>\n",
       "      <td>16.443000</td>\n",
       "      <td>16.839000</td>\n",
       "      <td>11.045000</td>\n",
       "      <td>18.340250</td>\n",
       "      <td>10.757000</td>\n",
       "      <td>15.209000</td>\n",
       "      <td>18.170000</td>\n",
       "      <td>10.703000</td>\n",
       "      <td>14.890000</td>\n",
       "      <td>15.057000</td>\n",
       "      <td>13.957000</td>\n",
       "      <td>15.268000</td>\n",
       "      <td>618.961500</td>\n",
       "      <td>0.000000</td>\n",
       "    </tr>\n",
       "    <tr>\n",
       "      <th>50%</th>\n",
       "      <td>13284.500000</td>\n",
       "      <td>122.390000</td>\n",
       "      <td>6.000000</td>\n",
       "      <td>8.000000</td>\n",
       "      <td>7.000000</td>\n",
       "      <td>8.000000</td>\n",
       "      <td>6.000000</td>\n",
       "      <td>17.787000</td>\n",
       "      <td>11.733000</td>\n",
       "      <td>17.132000</td>\n",
       "      <td>17.516000</td>\n",
       "      <td>11.712000</td>\n",
       "      <td>19.021000</td>\n",
       "      <td>11.430000</td>\n",
       "      <td>16.127000</td>\n",
       "      <td>19.211500</td>\n",
       "      <td>11.717000</td>\n",
       "      <td>15.628500</td>\n",
       "      <td>16.040000</td>\n",
       "      <td>14.969000</td>\n",
       "      <td>16.436000</td>\n",
       "      <td>701.024500</td>\n",
       "      <td>0.000000</td>\n",
       "    </tr>\n",
       "    <tr>\n",
       "      <th>75%</th>\n",
       "      <td>19926.750000</td>\n",
       "      <td>149.152500</td>\n",
       "      <td>8.000000</td>\n",
       "      <td>8.000000</td>\n",
       "      <td>10.000000</td>\n",
       "      <td>11.000000</td>\n",
       "      <td>8.000000</td>\n",
       "      <td>18.469000</td>\n",
       "      <td>12.410000</td>\n",
       "      <td>17.805000</td>\n",
       "      <td>18.178000</td>\n",
       "      <td>12.391000</td>\n",
       "      <td>19.708000</td>\n",
       "      <td>12.102000</td>\n",
       "      <td>17.025000</td>\n",
       "      <td>20.207000</td>\n",
       "      <td>12.709000</td>\n",
       "      <td>16.374000</td>\n",
       "      <td>17.082000</td>\n",
       "      <td>16.018000</td>\n",
       "      <td>17.628000</td>\n",
       "      <td>784.090250</td>\n",
       "      <td>0.000000</td>\n",
       "    </tr>\n",
       "    <tr>\n",
       "      <th>max</th>\n",
       "      <td>26569.000000</td>\n",
       "      <td>385.860000</td>\n",
       "      <td>9.000000</td>\n",
       "      <td>9.000000</td>\n",
       "      <td>29.000000</td>\n",
       "      <td>29.000000</td>\n",
       "      <td>24.000000</td>\n",
       "      <td>21.499000</td>\n",
       "      <td>16.484000</td>\n",
       "      <td>21.425000</td>\n",
       "      <td>21.543000</td>\n",
       "      <td>15.419000</td>\n",
       "      <td>23.807000</td>\n",
       "      <td>15.412000</td>\n",
       "      <td>22.479000</td>\n",
       "      <td>25.640000</td>\n",
       "      <td>17.663000</td>\n",
       "      <td>22.713000</td>\n",
       "      <td>22.303000</td>\n",
       "      <td>21.626000</td>\n",
       "      <td>24.094000</td>\n",
       "      <td>1312.794000</td>\n",
       "      <td>1.000000</td>\n",
       "    </tr>\n",
       "  </tbody>\n",
       "</table>\n",
       "</div>"
      ],
      "text/plain": [
       "                 id       loading   attribute_2   attribute_3  measurement_0  measurement_1  measurement_2  measurement_3  measurement_4  measurement_5  measurement_6  measurement_7  measurement_8  measurement_9  measurement_10  measurement_11  measurement_12  measurement_13  measurement_14  measurement_15  measurement_16  measurement_17       failure\n",
       "count  26570.000000  26320.000000  26570.000000  26570.000000   26570.000000   26570.000000   26570.000000   26189.000000   26032.000000   25894.000000   25774.000000   25633.000000   25522.000000   25343.000000    25270.000000    25102.000000    24969.000000    24796.000000    24696.000000    24561.000000    24460.000000    24286.000000  26570.000000\n",
       "mean   13284.500000    127.826233      6.754046      7.240459       7.415883       8.232518       6.256568      17.791528      11.731988      17.127804      17.510759      11.716624      19.024714      11.430725       16.117711       19.172085       11.702464       15.652904       16.048444       14.995554       16.460727      701.269059      0.212608\n",
       "std     7670.242662     39.030020      1.471852      1.456493       4.116690       4.199401       3.309109       1.001200       0.996085       0.996414       0.995980       1.000836       1.008591       0.999137        1.405978        1.520785        1.488838        1.155247        1.491923        1.549226        1.708935      123.304161      0.409160\n",
       "min        0.000000     33.160000      5.000000      5.000000       0.000000       0.000000       0.000000      13.968000       8.008000      12.073000      12.715000       7.968000      15.217000       7.537000        9.323000       12.461000        5.167000       10.890000        9.140000        9.104000        9.701000      196.787000      0.000000\n",
       "25%     6642.250000     99.987500      6.000000      6.000000       4.000000       5.000000       4.000000      17.117000      11.051000      16.443000      16.839000      11.045000      18.340250      10.757000       15.209000       18.170000       10.703000       14.890000       15.057000       13.957000       15.268000      618.961500      0.000000\n",
       "50%    13284.500000    122.390000      6.000000      8.000000       7.000000       8.000000       6.000000      17.787000      11.733000      17.132000      17.516000      11.712000      19.021000      11.430000       16.127000       19.211500       11.717000       15.628500       16.040000       14.969000       16.436000      701.024500      0.000000\n",
       "75%    19926.750000    149.152500      8.000000      8.000000      10.000000      11.000000       8.000000      18.469000      12.410000      17.805000      18.178000      12.391000      19.708000      12.102000       17.025000       20.207000       12.709000       16.374000       17.082000       16.018000       17.628000      784.090250      0.000000\n",
       "max    26569.000000    385.860000      9.000000      9.000000      29.000000      29.000000      24.000000      21.499000      16.484000      21.425000      21.543000      15.419000      23.807000      15.412000       22.479000       25.640000       17.663000       22.713000       22.303000       21.626000       24.094000     1312.794000      1.000000"
      ]
     },
     "execution_count": 5,
     "metadata": {},
     "output_type": "execute_result"
    }
   ],
   "source": [
    "df_train.describe()"
   ]
  },
  {
   "cell_type": "code",
   "execution_count": 6,
   "metadata": {},
   "outputs": [
    {
     "data": {
      "text/html": [
       "<div>\n",
       "<style scoped>\n",
       "    .dataframe tbody tr th:only-of-type {\n",
       "        vertical-align: middle;\n",
       "    }\n",
       "\n",
       "    .dataframe tbody tr th {\n",
       "        vertical-align: top;\n",
       "    }\n",
       "\n",
       "    .dataframe thead th {\n",
       "        text-align: right;\n",
       "    }\n",
       "</style>\n",
       "<table border=\"1\" class=\"dataframe\">\n",
       "  <thead>\n",
       "    <tr style=\"text-align: right;\">\n",
       "      <th></th>\n",
       "      <th>id</th>\n",
       "      <th>loading</th>\n",
       "      <th>attribute_2</th>\n",
       "      <th>attribute_3</th>\n",
       "      <th>measurement_0</th>\n",
       "      <th>measurement_1</th>\n",
       "      <th>measurement_2</th>\n",
       "      <th>measurement_3</th>\n",
       "      <th>measurement_4</th>\n",
       "      <th>measurement_5</th>\n",
       "      <th>measurement_6</th>\n",
       "      <th>measurement_7</th>\n",
       "      <th>measurement_8</th>\n",
       "      <th>measurement_9</th>\n",
       "      <th>measurement_10</th>\n",
       "      <th>measurement_11</th>\n",
       "      <th>measurement_12</th>\n",
       "      <th>measurement_13</th>\n",
       "      <th>measurement_14</th>\n",
       "      <th>measurement_15</th>\n",
       "      <th>measurement_16</th>\n",
       "      <th>measurement_17</th>\n",
       "    </tr>\n",
       "  </thead>\n",
       "  <tbody>\n",
       "    <tr>\n",
       "      <th>count</th>\n",
       "      <td>20775.000000</td>\n",
       "      <td>20552.000000</td>\n",
       "      <td>20775.000000</td>\n",
       "      <td>20775.000000</td>\n",
       "      <td>20775.000000</td>\n",
       "      <td>20775.000000</td>\n",
       "      <td>20775.000000</td>\n",
       "      <td>20446.000000</td>\n",
       "      <td>20366.000000</td>\n",
       "      <td>20267.000000</td>\n",
       "      <td>20151.000000</td>\n",
       "      <td>20055.000000</td>\n",
       "      <td>19929.000000</td>\n",
       "      <td>19871.000000</td>\n",
       "      <td>19708.000000</td>\n",
       "      <td>19639.000000</td>\n",
       "      <td>19535.000000</td>\n",
       "      <td>19472.000000</td>\n",
       "      <td>19335.000000</td>\n",
       "      <td>19233.000000</td>\n",
       "      <td>19097.000000</td>\n",
       "      <td>19035.000000</td>\n",
       "    </tr>\n",
       "    <tr>\n",
       "      <th>mean</th>\n",
       "      <td>36957.000000</td>\n",
       "      <td>127.634895</td>\n",
       "      <td>7.733959</td>\n",
       "      <td>6.196823</td>\n",
       "      <td>7.453574</td>\n",
       "      <td>8.962407</td>\n",
       "      <td>6.126931</td>\n",
       "      <td>17.793466</td>\n",
       "      <td>11.727331</td>\n",
       "      <td>17.138080</td>\n",
       "      <td>17.515797</td>\n",
       "      <td>11.710919</td>\n",
       "      <td>19.030765</td>\n",
       "      <td>11.417921</td>\n",
       "      <td>16.123986</td>\n",
       "      <td>18.846571</td>\n",
       "      <td>11.914230</td>\n",
       "      <td>15.736104</td>\n",
       "      <td>16.123958</td>\n",
       "      <td>15.115915</td>\n",
       "      <td>16.636052</td>\n",
       "      <td>701.389816</td>\n",
       "    </tr>\n",
       "    <tr>\n",
       "      <th>std</th>\n",
       "      <td>5997.370257</td>\n",
       "      <td>39.154642</td>\n",
       "      <td>1.308535</td>\n",
       "      <td>1.917478</td>\n",
       "      <td>4.274477</td>\n",
       "      <td>4.334200</td>\n",
       "      <td>3.835881</td>\n",
       "      <td>1.002206</td>\n",
       "      <td>1.006834</td>\n",
       "      <td>1.008714</td>\n",
       "      <td>1.000067</td>\n",
       "      <td>1.001096</td>\n",
       "      <td>1.005401</td>\n",
       "      <td>0.999953</td>\n",
       "      <td>1.565414</td>\n",
       "      <td>1.588642</td>\n",
       "      <td>1.363253</td>\n",
       "      <td>1.357019</td>\n",
       "      <td>1.410569</td>\n",
       "      <td>1.545069</td>\n",
       "      <td>1.643463</td>\n",
       "      <td>130.205829</td>\n",
       "    </tr>\n",
       "    <tr>\n",
       "      <th>min</th>\n",
       "      <td>26570.000000</td>\n",
       "      <td>37.700000</td>\n",
       "      <td>6.000000</td>\n",
       "      <td>4.000000</td>\n",
       "      <td>0.000000</td>\n",
       "      <td>0.000000</td>\n",
       "      <td>0.000000</td>\n",
       "      <td>13.565000</td>\n",
       "      <td>7.384000</td>\n",
       "      <td>12.215000</td>\n",
       "      <td>13.539000</td>\n",
       "      <td>7.853000</td>\n",
       "      <td>14.885000</td>\n",
       "      <td>7.578000</td>\n",
       "      <td>9.167000</td>\n",
       "      <td>13.127000</td>\n",
       "      <td>6.116000</td>\n",
       "      <td>9.209000</td>\n",
       "      <td>8.415000</td>\n",
       "      <td>8.417000</td>\n",
       "      <td>10.162000</td>\n",
       "      <td>1.671000</td>\n",
       "    </tr>\n",
       "    <tr>\n",
       "      <th>25%</th>\n",
       "      <td>31763.500000</td>\n",
       "      <td>99.470000</td>\n",
       "      <td>6.000000</td>\n",
       "      <td>4.000000</td>\n",
       "      <td>4.000000</td>\n",
       "      <td>6.000000</td>\n",
       "      <td>3.000000</td>\n",
       "      <td>17.119000</td>\n",
       "      <td>11.048250</td>\n",
       "      <td>16.457000</td>\n",
       "      <td>16.847000</td>\n",
       "      <td>11.035000</td>\n",
       "      <td>18.351000</td>\n",
       "      <td>10.744000</td>\n",
       "      <td>15.095000</td>\n",
       "      <td>17.714000</td>\n",
       "      <td>11.069000</td>\n",
       "      <td>14.871000</td>\n",
       "      <td>15.238000</td>\n",
       "      <td>14.082000</td>\n",
       "      <td>15.512000</td>\n",
       "      <td>618.723500</td>\n",
       "    </tr>\n",
       "    <tr>\n",
       "      <th>50%</th>\n",
       "      <td>36957.000000</td>\n",
       "      <td>122.110000</td>\n",
       "      <td>7.000000</td>\n",
       "      <td>5.000000</td>\n",
       "      <td>7.000000</td>\n",
       "      <td>9.000000</td>\n",
       "      <td>6.000000</td>\n",
       "      <td>17.789000</td>\n",
       "      <td>11.729000</td>\n",
       "      <td>17.132000</td>\n",
       "      <td>17.510000</td>\n",
       "      <td>11.704000</td>\n",
       "      <td>19.040000</td>\n",
       "      <td>11.414000</td>\n",
       "      <td>16.109500</td>\n",
       "      <td>18.810000</td>\n",
       "      <td>11.941000</td>\n",
       "      <td>15.734000</td>\n",
       "      <td>16.119000</td>\n",
       "      <td>15.062000</td>\n",
       "      <td>16.706000</td>\n",
       "      <td>701.379000</td>\n",
       "    </tr>\n",
       "    <tr>\n",
       "      <th>75%</th>\n",
       "      <td>42150.500000</td>\n",
       "      <td>148.840000</td>\n",
       "      <td>9.000000</td>\n",
       "      <td>7.000000</td>\n",
       "      <td>10.000000</td>\n",
       "      <td>12.000000</td>\n",
       "      <td>8.000000</td>\n",
       "      <td>18.478000</td>\n",
       "      <td>12.411000</td>\n",
       "      <td>17.824500</td>\n",
       "      <td>18.197000</td>\n",
       "      <td>12.385000</td>\n",
       "      <td>19.707000</td>\n",
       "      <td>12.093000</td>\n",
       "      <td>17.156000</td>\n",
       "      <td>19.967500</td>\n",
       "      <td>12.791000</td>\n",
       "      <td>16.605000</td>\n",
       "      <td>17.001500</td>\n",
       "      <td>16.107000</td>\n",
       "      <td>17.781000</td>\n",
       "      <td>784.872500</td>\n",
       "    </tr>\n",
       "    <tr>\n",
       "      <th>max</th>\n",
       "      <td>47344.000000</td>\n",
       "      <td>385.570000</td>\n",
       "      <td>9.000000</td>\n",
       "      <td>9.000000</td>\n",
       "      <td>30.000000</td>\n",
       "      <td>33.000000</td>\n",
       "      <td>28.000000</td>\n",
       "      <td>21.389000</td>\n",
       "      <td>15.623000</td>\n",
       "      <td>21.681000</td>\n",
       "      <td>21.183000</td>\n",
       "      <td>15.828000</td>\n",
       "      <td>23.092000</td>\n",
       "      <td>15.091000</td>\n",
       "      <td>23.354000</td>\n",
       "      <td>24.950000</td>\n",
       "      <td>18.962000</td>\n",
       "      <td>21.677000</td>\n",
       "      <td>23.140000</td>\n",
       "      <td>22.097000</td>\n",
       "      <td>22.270000</td>\n",
       "      <td>1242.786000</td>\n",
       "    </tr>\n",
       "  </tbody>\n",
       "</table>\n",
       "</div>"
      ],
      "text/plain": [
       "                 id       loading   attribute_2   attribute_3  measurement_0  measurement_1  measurement_2  measurement_3  measurement_4  measurement_5  measurement_6  measurement_7  measurement_8  measurement_9  measurement_10  measurement_11  measurement_12  measurement_13  measurement_14  measurement_15  measurement_16  measurement_17\n",
       "count  20775.000000  20552.000000  20775.000000  20775.000000   20775.000000   20775.000000   20775.000000   20446.000000   20366.000000   20267.000000   20151.000000   20055.000000   19929.000000   19871.000000    19708.000000    19639.000000    19535.000000    19472.000000    19335.000000    19233.000000    19097.000000    19035.000000\n",
       "mean   36957.000000    127.634895      7.733959      6.196823       7.453574       8.962407       6.126931      17.793466      11.727331      17.138080      17.515797      11.710919      19.030765      11.417921       16.123986       18.846571       11.914230       15.736104       16.123958       15.115915       16.636052      701.389816\n",
       "std     5997.370257     39.154642      1.308535      1.917478       4.274477       4.334200       3.835881       1.002206       1.006834       1.008714       1.000067       1.001096       1.005401       0.999953        1.565414        1.588642        1.363253        1.357019        1.410569        1.545069        1.643463      130.205829\n",
       "min    26570.000000     37.700000      6.000000      4.000000       0.000000       0.000000       0.000000      13.565000       7.384000      12.215000      13.539000       7.853000      14.885000       7.578000        9.167000       13.127000        6.116000        9.209000        8.415000        8.417000       10.162000        1.671000\n",
       "25%    31763.500000     99.470000      6.000000      4.000000       4.000000       6.000000       3.000000      17.119000      11.048250      16.457000      16.847000      11.035000      18.351000      10.744000       15.095000       17.714000       11.069000       14.871000       15.238000       14.082000       15.512000      618.723500\n",
       "50%    36957.000000    122.110000      7.000000      5.000000       7.000000       9.000000       6.000000      17.789000      11.729000      17.132000      17.510000      11.704000      19.040000      11.414000       16.109500       18.810000       11.941000       15.734000       16.119000       15.062000       16.706000      701.379000\n",
       "75%    42150.500000    148.840000      9.000000      7.000000      10.000000      12.000000       8.000000      18.478000      12.411000      17.824500      18.197000      12.385000      19.707000      12.093000       17.156000       19.967500       12.791000       16.605000       17.001500       16.107000       17.781000      784.872500\n",
       "max    47344.000000    385.570000      9.000000      9.000000      30.000000      33.000000      28.000000      21.389000      15.623000      21.681000      21.183000      15.828000      23.092000      15.091000       23.354000       24.950000       18.962000       21.677000       23.140000       22.097000       22.270000     1242.786000"
      ]
     },
     "execution_count": 6,
     "metadata": {},
     "output_type": "execute_result"
    }
   ],
   "source": [
    "df_test.describe()"
   ]
  },
  {
   "cell_type": "code",
   "execution_count": 7,
   "metadata": {},
   "outputs": [
    {
     "data": {
      "text/plain": [
       "['loading',\n",
       " 'attribute_0',\n",
       " 'attribute_1',\n",
       " 'attribute_2',\n",
       " 'attribute_3',\n",
       " 'measurement_0',\n",
       " 'measurement_1',\n",
       " 'measurement_2',\n",
       " 'measurement_3',\n",
       " 'measurement_4',\n",
       " 'measurement_5',\n",
       " 'measurement_6',\n",
       " 'measurement_7',\n",
       " 'measurement_8',\n",
       " 'measurement_9',\n",
       " 'measurement_10',\n",
       " 'measurement_11',\n",
       " 'measurement_12',\n",
       " 'measurement_13',\n",
       " 'measurement_14',\n",
       " 'measurement_15',\n",
       " 'measurement_16',\n",
       " 'measurement_17']"
      ]
     },
     "execution_count": 7,
     "metadata": {},
     "output_type": "execute_result"
    }
   ],
   "source": [
    "features_list = [col for col in df_train.columns if col not in [Config.row_id, Config.target, 'product_code']]\n",
    "features_list"
   ]
  },
  {
   "cell_type": "markdown",
   "metadata": {},
   "source": [
    "## 基本情報"
   ]
  },
  {
   "cell_type": "code",
   "execution_count": 8,
   "metadata": {},
   "outputs": [
    {
     "data": {
      "text/html": [
       "<div>\n",
       "<style scoped>\n",
       "    .dataframe tbody tr th:only-of-type {\n",
       "        vertical-align: middle;\n",
       "    }\n",
       "\n",
       "    .dataframe tbody tr th {\n",
       "        vertical-align: top;\n",
       "    }\n",
       "\n",
       "    .dataframe thead th {\n",
       "        text-align: right;\n",
       "    }\n",
       "</style>\n",
       "<table border=\"1\" class=\"dataframe\">\n",
       "  <thead>\n",
       "    <tr style=\"text-align: right;\">\n",
       "      <th></th>\n",
       "      <th></th>\n",
       "      <th></th>\n",
       "      <th></th>\n",
       "      <th></th>\n",
       "      <th>id</th>\n",
       "      <th>loading</th>\n",
       "      <th>measurement_0</th>\n",
       "      <th>measurement_1</th>\n",
       "      <th>measurement_2</th>\n",
       "      <th>measurement_3</th>\n",
       "      <th>measurement_4</th>\n",
       "      <th>measurement_5</th>\n",
       "      <th>measurement_6</th>\n",
       "      <th>measurement_7</th>\n",
       "      <th>measurement_8</th>\n",
       "      <th>measurement_9</th>\n",
       "      <th>measurement_10</th>\n",
       "      <th>measurement_11</th>\n",
       "      <th>measurement_12</th>\n",
       "      <th>measurement_13</th>\n",
       "      <th>measurement_14</th>\n",
       "      <th>measurement_15</th>\n",
       "      <th>measurement_16</th>\n",
       "      <th>measurement_17</th>\n",
       "      <th>failure</th>\n",
       "    </tr>\n",
       "    <tr>\n",
       "      <th>product_code</th>\n",
       "      <th>attribute_0</th>\n",
       "      <th>attribute_1</th>\n",
       "      <th>attribute_2</th>\n",
       "      <th>attribute_3</th>\n",
       "      <th></th>\n",
       "      <th></th>\n",
       "      <th></th>\n",
       "      <th></th>\n",
       "      <th></th>\n",
       "      <th></th>\n",
       "      <th></th>\n",
       "      <th></th>\n",
       "      <th></th>\n",
       "      <th></th>\n",
       "      <th></th>\n",
       "      <th></th>\n",
       "      <th></th>\n",
       "      <th></th>\n",
       "      <th></th>\n",
       "      <th></th>\n",
       "      <th></th>\n",
       "      <th></th>\n",
       "      <th></th>\n",
       "      <th></th>\n",
       "      <th></th>\n",
       "    </tr>\n",
       "  </thead>\n",
       "  <tbody>\n",
       "    <tr>\n",
       "      <th>A</th>\n",
       "      <th>material_7</th>\n",
       "      <th>material_8</th>\n",
       "      <th>9</th>\n",
       "      <th>5</th>\n",
       "      <td>5100</td>\n",
       "      <td>5051</td>\n",
       "      <td>5100</td>\n",
       "      <td>5100</td>\n",
       "      <td>5100</td>\n",
       "      <td>5032</td>\n",
       "      <td>4998</td>\n",
       "      <td>4949</td>\n",
       "      <td>4925</td>\n",
       "      <td>4924</td>\n",
       "      <td>4913</td>\n",
       "      <td>4875</td>\n",
       "      <td>4843</td>\n",
       "      <td>4804</td>\n",
       "      <td>4774</td>\n",
       "      <td>4770</td>\n",
       "      <td>4784</td>\n",
       "      <td>4723</td>\n",
       "      <td>4712</td>\n",
       "      <td>4674</td>\n",
       "      <td>5100</td>\n",
       "    </tr>\n",
       "    <tr>\n",
       "      <th>B</th>\n",
       "      <th>material_5</th>\n",
       "      <th>material_5</th>\n",
       "      <th>8</th>\n",
       "      <th>8</th>\n",
       "      <td>5250</td>\n",
       "      <td>5209</td>\n",
       "      <td>5250</td>\n",
       "      <td>5250</td>\n",
       "      <td>5250</td>\n",
       "      <td>5166</td>\n",
       "      <td>5155</td>\n",
       "      <td>5135</td>\n",
       "      <td>5117</td>\n",
       "      <td>5057</td>\n",
       "      <td>5038</td>\n",
       "      <td>4999</td>\n",
       "      <td>4983</td>\n",
       "      <td>4963</td>\n",
       "      <td>4952</td>\n",
       "      <td>4889</td>\n",
       "      <td>4909</td>\n",
       "      <td>4862</td>\n",
       "      <td>4791</td>\n",
       "      <td>4800</td>\n",
       "      <td>5250</td>\n",
       "    </tr>\n",
       "    <tr>\n",
       "      <th>C</th>\n",
       "      <th>material_7</th>\n",
       "      <th>material_8</th>\n",
       "      <th>5</th>\n",
       "      <th>8</th>\n",
       "      <td>5765</td>\n",
       "      <td>5716</td>\n",
       "      <td>5765</td>\n",
       "      <td>5765</td>\n",
       "      <td>5765</td>\n",
       "      <td>5689</td>\n",
       "      <td>5642</td>\n",
       "      <td>5603</td>\n",
       "      <td>5583</td>\n",
       "      <td>5573</td>\n",
       "      <td>5523</td>\n",
       "      <td>5495</td>\n",
       "      <td>5484</td>\n",
       "      <td>5469</td>\n",
       "      <td>5432</td>\n",
       "      <td>5404</td>\n",
       "      <td>5337</td>\n",
       "      <td>5327</td>\n",
       "      <td>5323</td>\n",
       "      <td>5296</td>\n",
       "      <td>5765</td>\n",
       "    </tr>\n",
       "    <tr>\n",
       "      <th>D</th>\n",
       "      <th>material_7</th>\n",
       "      <th>material_5</th>\n",
       "      <th>6</th>\n",
       "      <th>6</th>\n",
       "      <td>5112</td>\n",
       "      <td>5063</td>\n",
       "      <td>5112</td>\n",
       "      <td>5112</td>\n",
       "      <td>5112</td>\n",
       "      <td>5043</td>\n",
       "      <td>5016</td>\n",
       "      <td>5001</td>\n",
       "      <td>4956</td>\n",
       "      <td>4941</td>\n",
       "      <td>4917</td>\n",
       "      <td>4874</td>\n",
       "      <td>4871</td>\n",
       "      <td>4824</td>\n",
       "      <td>4798</td>\n",
       "      <td>4733</td>\n",
       "      <td>4720</td>\n",
       "      <td>4706</td>\n",
       "      <td>4710</td>\n",
       "      <td>4646</td>\n",
       "      <td>5112</td>\n",
       "    </tr>\n",
       "    <tr>\n",
       "      <th>E</th>\n",
       "      <th>material_7</th>\n",
       "      <th>material_6</th>\n",
       "      <th>6</th>\n",
       "      <th>9</th>\n",
       "      <td>5343</td>\n",
       "      <td>5281</td>\n",
       "      <td>5343</td>\n",
       "      <td>5343</td>\n",
       "      <td>5343</td>\n",
       "      <td>5259</td>\n",
       "      <td>5221</td>\n",
       "      <td>5206</td>\n",
       "      <td>5193</td>\n",
       "      <td>5138</td>\n",
       "      <td>5131</td>\n",
       "      <td>5100</td>\n",
       "      <td>5089</td>\n",
       "      <td>5042</td>\n",
       "      <td>5013</td>\n",
       "      <td>5000</td>\n",
       "      <td>4946</td>\n",
       "      <td>4943</td>\n",
       "      <td>4924</td>\n",
       "      <td>4870</td>\n",
       "      <td>5343</td>\n",
       "    </tr>\n",
       "  </tbody>\n",
       "</table>\n",
       "</div>"
      ],
      "text/plain": [
       "                                                                id  loading  measurement_0  measurement_1  measurement_2  measurement_3  measurement_4  measurement_5  measurement_6  measurement_7  measurement_8  measurement_9  measurement_10  measurement_11  measurement_12  measurement_13  measurement_14  measurement_15  measurement_16  measurement_17  failure\n",
       "product_code attribute_0 attribute_1 attribute_2 attribute_3                                                                                                                                                                                                                                                                                                              \n",
       "A            material_7  material_8  9           5            5100     5051           5100           5100           5100           5032           4998           4949           4925           4924           4913           4875            4843            4804            4774            4770            4784            4723            4712            4674     5100\n",
       "B            material_5  material_5  8           8            5250     5209           5250           5250           5250           5166           5155           5135           5117           5057           5038           4999            4983            4963            4952            4889            4909            4862            4791            4800     5250\n",
       "C            material_7  material_8  5           8            5765     5716           5765           5765           5765           5689           5642           5603           5583           5573           5523           5495            5484            5469            5432            5404            5337            5327            5323            5296     5765\n",
       "D            material_7  material_5  6           6            5112     5063           5112           5112           5112           5043           5016           5001           4956           4941           4917           4874            4871            4824            4798            4733            4720            4706            4710            4646     5112\n",
       "E            material_7  material_6  6           9            5343     5281           5343           5343           5343           5259           5221           5206           5193           5138           5131           5100            5089            5042            5013            5000            4946            4943            4924            4870     5343"
      ]
     },
     "execution_count": 8,
     "metadata": {},
     "output_type": "execute_result"
    }
   ],
   "source": [
    "df_train.groupby(['product_code','attribute_0', 'attribute_1', 'attribute_2', 'attribute_3']).count()"
   ]
  },
  {
   "cell_type": "code",
   "execution_count": 9,
   "metadata": {},
   "outputs": [
    {
     "data": {
      "text/html": [
       "<div>\n",
       "<style scoped>\n",
       "    .dataframe tbody tr th:only-of-type {\n",
       "        vertical-align: middle;\n",
       "    }\n",
       "\n",
       "    .dataframe tbody tr th {\n",
       "        vertical-align: top;\n",
       "    }\n",
       "\n",
       "    .dataframe thead th {\n",
       "        text-align: right;\n",
       "    }\n",
       "</style>\n",
       "<table border=\"1\" class=\"dataframe\">\n",
       "  <thead>\n",
       "    <tr style=\"text-align: right;\">\n",
       "      <th></th>\n",
       "      <th></th>\n",
       "      <th></th>\n",
       "      <th></th>\n",
       "      <th></th>\n",
       "      <th>id</th>\n",
       "      <th>loading</th>\n",
       "      <th>measurement_0</th>\n",
       "      <th>measurement_1</th>\n",
       "      <th>measurement_2</th>\n",
       "      <th>measurement_3</th>\n",
       "      <th>measurement_4</th>\n",
       "      <th>measurement_5</th>\n",
       "      <th>measurement_6</th>\n",
       "      <th>measurement_7</th>\n",
       "      <th>measurement_8</th>\n",
       "      <th>measurement_9</th>\n",
       "      <th>measurement_10</th>\n",
       "      <th>measurement_11</th>\n",
       "      <th>measurement_12</th>\n",
       "      <th>measurement_13</th>\n",
       "      <th>measurement_14</th>\n",
       "      <th>measurement_15</th>\n",
       "      <th>measurement_16</th>\n",
       "      <th>measurement_17</th>\n",
       "    </tr>\n",
       "    <tr>\n",
       "      <th>product_code</th>\n",
       "      <th>attribute_0</th>\n",
       "      <th>attribute_1</th>\n",
       "      <th>attribute_2</th>\n",
       "      <th>attribute_3</th>\n",
       "      <th></th>\n",
       "      <th></th>\n",
       "      <th></th>\n",
       "      <th></th>\n",
       "      <th></th>\n",
       "      <th></th>\n",
       "      <th></th>\n",
       "      <th></th>\n",
       "      <th></th>\n",
       "      <th></th>\n",
       "      <th></th>\n",
       "      <th></th>\n",
       "      <th></th>\n",
       "      <th></th>\n",
       "      <th></th>\n",
       "      <th></th>\n",
       "      <th></th>\n",
       "      <th></th>\n",
       "      <th></th>\n",
       "      <th></th>\n",
       "    </tr>\n",
       "  </thead>\n",
       "  <tbody>\n",
       "    <tr>\n",
       "      <th>F</th>\n",
       "      <th>material_5</th>\n",
       "      <th>material_6</th>\n",
       "      <th>6</th>\n",
       "      <th>4</th>\n",
       "      <td>5422</td>\n",
       "      <td>5355</td>\n",
       "      <td>5422</td>\n",
       "      <td>5422</td>\n",
       "      <td>5422</td>\n",
       "      <td>5345</td>\n",
       "      <td>5312</td>\n",
       "      <td>5301</td>\n",
       "      <td>5258</td>\n",
       "      <td>5246</td>\n",
       "      <td>5201</td>\n",
       "      <td>5186</td>\n",
       "      <td>5183</td>\n",
       "      <td>5137</td>\n",
       "      <td>5081</td>\n",
       "      <td>5093</td>\n",
       "      <td>5042</td>\n",
       "      <td>5014</td>\n",
       "      <td>4966</td>\n",
       "      <td>4959</td>\n",
       "    </tr>\n",
       "    <tr>\n",
       "      <th>G</th>\n",
       "      <th>material_5</th>\n",
       "      <th>material_6</th>\n",
       "      <th>9</th>\n",
       "      <th>7</th>\n",
       "      <td>5107</td>\n",
       "      <td>5058</td>\n",
       "      <td>5107</td>\n",
       "      <td>5107</td>\n",
       "      <td>5107</td>\n",
       "      <td>5019</td>\n",
       "      <td>4990</td>\n",
       "      <td>4981</td>\n",
       "      <td>4945</td>\n",
       "      <td>4941</td>\n",
       "      <td>4889</td>\n",
       "      <td>4898</td>\n",
       "      <td>4815</td>\n",
       "      <td>4800</td>\n",
       "      <td>4795</td>\n",
       "      <td>4798</td>\n",
       "      <td>4766</td>\n",
       "      <td>4747</td>\n",
       "      <td>4669</td>\n",
       "      <td>4677</td>\n",
       "    </tr>\n",
       "    <tr>\n",
       "      <th>H</th>\n",
       "      <th>material_7</th>\n",
       "      <th>material_7</th>\n",
       "      <th>7</th>\n",
       "      <th>9</th>\n",
       "      <td>5018</td>\n",
       "      <td>4967</td>\n",
       "      <td>5018</td>\n",
       "      <td>5018</td>\n",
       "      <td>5018</td>\n",
       "      <td>4933</td>\n",
       "      <td>4930</td>\n",
       "      <td>4881</td>\n",
       "      <td>4868</td>\n",
       "      <td>4823</td>\n",
       "      <td>4830</td>\n",
       "      <td>4786</td>\n",
       "      <td>4749</td>\n",
       "      <td>4741</td>\n",
       "      <td>4708</td>\n",
       "      <td>4694</td>\n",
       "      <td>4664</td>\n",
       "      <td>4631</td>\n",
       "      <td>4615</td>\n",
       "      <td>4585</td>\n",
       "    </tr>\n",
       "    <tr>\n",
       "      <th>I</th>\n",
       "      <th>material_7</th>\n",
       "      <th>material_5</th>\n",
       "      <th>9</th>\n",
       "      <th>5</th>\n",
       "      <td>5228</td>\n",
       "      <td>5172</td>\n",
       "      <td>5228</td>\n",
       "      <td>5228</td>\n",
       "      <td>5228</td>\n",
       "      <td>5149</td>\n",
       "      <td>5134</td>\n",
       "      <td>5104</td>\n",
       "      <td>5080</td>\n",
       "      <td>5045</td>\n",
       "      <td>5009</td>\n",
       "      <td>5001</td>\n",
       "      <td>4961</td>\n",
       "      <td>4961</td>\n",
       "      <td>4951</td>\n",
       "      <td>4887</td>\n",
       "      <td>4863</td>\n",
       "      <td>4841</td>\n",
       "      <td>4847</td>\n",
       "      <td>4814</td>\n",
       "    </tr>\n",
       "  </tbody>\n",
       "</table>\n",
       "</div>"
      ],
      "text/plain": [
       "                                                                id  loading  measurement_0  measurement_1  measurement_2  measurement_3  measurement_4  measurement_5  measurement_6  measurement_7  measurement_8  measurement_9  measurement_10  measurement_11  measurement_12  measurement_13  measurement_14  measurement_15  measurement_16  measurement_17\n",
       "product_code attribute_0 attribute_1 attribute_2 attribute_3                                                                                                                                                                                                                                                                                                     \n",
       "F            material_5  material_6  6           4            5422     5355           5422           5422           5422           5345           5312           5301           5258           5246           5201           5186            5183            5137            5081            5093            5042            5014            4966            4959\n",
       "G            material_5  material_6  9           7            5107     5058           5107           5107           5107           5019           4990           4981           4945           4941           4889           4898            4815            4800            4795            4798            4766            4747            4669            4677\n",
       "H            material_7  material_7  7           9            5018     4967           5018           5018           5018           4933           4930           4881           4868           4823           4830           4786            4749            4741            4708            4694            4664            4631            4615            4585\n",
       "I            material_7  material_5  9           5            5228     5172           5228           5228           5228           5149           5134           5104           5080           5045           5009           5001            4961            4961            4951            4887            4863            4841            4847            4814"
      ]
     },
     "execution_count": 9,
     "metadata": {},
     "output_type": "execute_result"
    }
   ],
   "source": [
    "df_test.groupby(['product_code','attribute_0', 'attribute_1', 'attribute_2', 'attribute_3']).count()"
   ]
  },
  {
   "cell_type": "code",
   "execution_count": null,
   "metadata": {},
   "outputs": [],
   "source": []
  },
  {
   "cell_type": "markdown",
   "metadata": {},
   "source": [
    "## 各特徴量とTargetの関係"
   ]
  },
  {
   "cell_type": "code",
   "execution_count": 13,
   "metadata": {},
   "outputs": [
    {
     "data": {
      "application/vnd.plotly.v1+json": {
       "config": {
        "plotlyServerURL": "https://plot.ly"
       },
       "data": [
        {
         "customdata": [
          2492,
          2492,
          2492,
          2492,
          2491,
          2492,
          2492,
          2492,
          2492,
          2491,
          1652,
          0,
          0,
          0,
          0,
          0,
          0,
          0,
          0
         ],
         "hovertemplate": "<b>%{y:.2f}</b> <br>total: %{customdata:.2f}<extra></extra>",
         "mode": "markers",
         "name": "Failure probability",
         "type": "scatter",
         "x": [
          1245.8947368421052,
          3737.684210526316,
          6229.473684210527,
          8721.263157894737,
          11213.052631578947,
          13704.842105263157,
          16196.631578947368,
          18688.42105263158,
          21180.210526315786,
          23672,
          26163.789473684206,
          28655.57894736842,
          31147.368421052633,
          33639.15789473684,
          36130.94736842105,
          38622.73684210526,
          41114.52631578947,
          43606.31578947368,
          46098.10526315789
         ],
         "xaxis": "x",
         "y": [
          0.22431781701444622,
          0.23073836276083468,
          0.20746388443017658,
          0.19462279293739967,
          0.2095543958249699,
          0.21428571428571427,
          0.20706260032102727,
          0.221107544141252,
          0.2122792937399679,
          0.20433560818948213,
          0.21307506053268765,
          null,
          null,
          null,
          null,
          null,
          null,
          null,
          null
         ],
         "yaxis": "y"
        },
        {
         "customdata": [
          42,
          760,
          2964,
          5016,
          5404,
          4610,
          3162,
          1925,
          1128,
          637,
          317,
          171,
          83,
          54,
          23,
          13,
          8,
          1,
          2
         ],
         "hovertemplate": "<b>%{y:.2f}</b> <br>total: %{customdata:.2f}<extra></extra>",
         "mode": "markers",
         "name": "Failure probability",
         "type": "scatter",
         "x": [
          42.44157894736842,
          61.00473684210527,
          79.5678947368421,
          98.13105263157894,
          116.6942105263158,
          135.25736842105263,
          153.8205263157895,
          172.38368421052633,
          190.94684210526316,
          209.51,
          228.07315789473685,
          246.63631578947368,
          265.19947368421055,
          283.76263157894743,
          302.32578947368427,
          320.8889473684211,
          339.45210526315793,
          358.01526315789476,
          376.5784210526316
         ],
         "xaxis": "x2",
         "y": [
          0.09523809523809523,
          0.12763157894736843,
          0.1440620782726046,
          0.17503987240829347,
          0.19448556624722427,
          0.22364425162689805,
          0.25173940543959517,
          0.28103896103896103,
          0.3147163120567376,
          0.28728414442700156,
          0.34069400630914826,
          0.30994152046783624,
          0.42168674698795183,
          0.48148148148148145,
          0.34782608695652173,
          0.5384615384615384,
          0.375,
          1,
          0.5
         ],
         "yaxis": "y2"
        },
        {
         "customdata": [
          5765,
          0,
          0,
          0,
          10455,
          0,
          0,
          0,
          0,
          0,
          0,
          0,
          0,
          0,
          5250,
          0,
          0,
          0,
          5100
         ],
         "hovertemplate": "<b>%{y:.2f}</b> <br>total: %{customdata:.2f}<extra></extra>",
         "mode": "markers",
         "name": "Failure probability",
         "type": "scatter",
         "x": [
          5.105263157894736,
          5.315789473684211,
          5.526315789473684,
          5.7368421052631575,
          5.947368421052632,
          6.157894736842105,
          6.368421052631579,
          6.578947368421053,
          6.789473684210526,
          7,
          7.2105263157894735,
          7.421052631578947,
          7.631578947368421,
          7.842105263157895,
          8.05263157894737,
          8.263157894736842,
          8.473684210526315,
          8.684210526315788,
          8.894736842105264
         ],
         "xaxis": "x3",
         "y": [
          0.21162185602775369,
          null,
          null,
          null,
          0.21214729794356768,
          null,
          null,
          null,
          null,
          null,
          null,
          null,
          null,
          null,
          0.20038095238095238,
          null,
          null,
          null,
          0.22725490196078432
         ],
         "yaxis": "y3"
        },
        {
         "customdata": [
          0,
          0,
          0,
          5100,
          0,
          0,
          0,
          5112,
          0,
          0,
          0,
          0,
          0,
          0,
          0,
          11015,
          0,
          0,
          5343
         ],
         "hovertemplate": "<b>%{y:.2f}</b> <br>total: %{customdata:.2f}<extra></extra>",
         "mode": "markers",
         "name": "Failure probability",
         "type": "scatter",
         "x": [
          4.131578947368421,
          4.394736842105264,
          4.657894736842105,
          4.921052631578947,
          5.184210526315789,
          5.447368421052632,
          5.710526315789474,
          5.973684210526315,
          6.2368421052631575,
          6.5,
          6.7631578947368425,
          7.026315789473684,
          7.289473684210526,
          7.552631578947368,
          7.815789473684211,
          8.078947368421051,
          8.342105263157894,
          8.605263157894736,
          8.868421052631579
         ],
         "xaxis": "x4",
         "y": [
          null,
          null,
          null,
          0.22725490196078432,
          null,
          null,
          null,
          0.21752738654147105,
          null,
          null,
          null,
          null,
          null,
          null,
          null,
          0.20626418520199727,
          null,
          null,
          0.20699981283922889
         ],
         "yaxis": "y4"
        },
        {
         "customdata": [
          1337,
          3082,
          2280,
          5401,
          2719,
          4526,
          3136,
          1074,
          1435,
          456,
          588,
          199,
          192,
          91,
          17,
          31,
          4,
          1,
          1
         ],
         "hovertemplate": "<b>%{y:.2f}</b> <br>total: %{customdata:.2f}<extra></extra>",
         "mode": "markers",
         "name": "Failure probability",
         "type": "scatter",
         "x": [
          0.7894736842105263,
          2.3684210526315788,
          3.9473684210526314,
          5.526315789473684,
          7.105263157894737,
          8.68421052631579,
          10.263157894736842,
          11.842105263157894,
          13.421052631578949,
          15,
          16.578947368421055,
          18.157894736842103,
          19.736842105263158,
          21.315789473684212,
          22.894736842105264,
          24.473684210526315,
          26.05263157894737,
          27.63157894736842,
          29.210526315789473
         ],
         "xaxis": "x5",
         "y": [
          0.20344053851907254,
          0.20700843608046723,
          0.21359649122807017,
          0.2153304943528976,
          0.21552041191614565,
          0.20216526734423332,
          0.22066326530612246,
          0.2122905027932961,
          0.2132404181184669,
          0.19956140350877194,
          0.25170068027210885,
          0.21608040201005024,
          0.265625,
          0.16483516483516483,
          0.23529411764705882,
          0.3225806451612903,
          0,
          0,
          0
         ],
         "yaxis": "y5"
        },
        {
         "customdata": [
          1031,
          2374,
          3827,
          2375,
          5149,
          4446,
          3370,
          1117,
          1453,
          788,
          381,
          94,
          118,
          32,
          11,
          2,
          2,
          0,
          0
         ],
         "hovertemplate": "<b>%{y:.2f}</b> <br>total: %{customdata:.2f}<extra></extra>",
         "mode": "markers",
         "name": "Failure probability",
         "type": "scatter",
         "x": [
          0.868421052631579,
          2.605263157894737,
          4.342105263157896,
          6.078947368421053,
          7.815789473684211,
          9.55263157894737,
          11.289473684210527,
          13.026315789473685,
          14.763157894736842,
          16.5,
          18.236842105263158,
          19.973684210526315,
          21.710526315789476,
          23.447368421052634,
          25.18421052631579,
          26.92105263157895,
          28.657894736842106,
          30.394736842105264,
          32.131578947368425
         ],
         "xaxis": "x6",
         "y": [
          0.2492725509214355,
          0.2026116259477675,
          0.21792526783381239,
          0.21726315789473685,
          0.2140221402214022,
          0.21502474134053082,
          0.20148367952522256,
          0.19427036705461057,
          0.20922229869236064,
          0.21446700507614214,
          0.2073490813648294,
          0.23404255319148937,
          0.19491525423728814,
          0.21875,
          0.09090909090909091,
          0.5,
          0.5,
          null,
          null
         ],
         "yaxis": "y6"
        },
        {
         "customdata": [
          1489,
          1749,
          5362,
          3241,
          6047,
          2543,
          3340,
          985,
          1166,
          258,
          238,
          67,
          56,
          16,
          9,
          2,
          2,
          0,
          0
         ],
         "hovertemplate": "<b>%{y:.2f}</b> <br>total: %{customdata:.2f}<extra></extra>",
         "mode": "markers",
         "name": "Failure probability",
         "type": "scatter",
         "x": [
          0.7368421052631579,
          2.2105263157894735,
          3.6842105263157894,
          5.157894736842104,
          6.631578947368421,
          8.105263157894736,
          9.578947368421051,
          11.052631578947368,
          12.526315789473683,
          14,
          15.473684210526315,
          16.94736842105263,
          18.421052631578945,
          19.89473684210526,
          21.36842105263158,
          22.842105263157894,
          24.31578947368421,
          25.789473684210524,
          27.263157894736842
         ],
         "xaxis": "x7",
         "y": [
          0.20752182672934855,
          0.1955403087478559,
          0.2155911973144349,
          0.20394939833384756,
          0.2126674383992062,
          0.22060558395595753,
          0.2092814371257485,
          0.19695431472081218,
          0.2358490566037736,
          0.22868217054263565,
          0.25630252100840334,
          0.29850746268656714,
          0.26785714285714285,
          0.375,
          0.4444444444444444,
          0,
          0.5,
          null,
          null
         ],
         "yaxis": "y7"
        },
        {
         "customdata": [
          1,
          7,
          32,
          89,
          302,
          673,
          1425,
          2376,
          3450,
          4261,
          4260,
          3638,
          2600,
          1664,
          873,
          355,
          136,
          39,
          8
         ],
         "hovertemplate": "<b>%{y:.2f}</b> <br>total: %{customdata:.2f}<extra></extra>",
         "mode": "markers",
         "name": "Failure probability",
         "type": "scatter",
         "x": [
          13.77378947368421,
          14.19136842105263,
          14.608947368421052,
          15.026526315789472,
          15.444105263157894,
          15.861684210526315,
          16.279263157894736,
          16.69684210526316,
          17.114421052631577,
          17.531999999999996,
          17.94957894736842,
          18.36715789473684,
          18.78473684210526,
          19.202315789473683,
          19.619894736842106,
          20.037473684210525,
          20.455052631578944,
          20.872631578947367,
          21.29021052631579
         ],
         "xaxis": "x8",
         "y": [
          0,
          0.14285714285714285,
          0.15625,
          0.21348314606741572,
          0.18543046357615894,
          0.20208023774145617,
          0.21333333333333335,
          0.21927609427609426,
          0.2072463768115942,
          0.2201361182820934,
          0.2096244131455399,
          0.21852666300164925,
          0.21423076923076922,
          0.21574519230769232,
          0.1958762886597938,
          0.2084507042253521,
          0.23529411764705882,
          0.23076923076923078,
          0.375
         ],
         "yaxis": "y8"
        },
        {
         "customdata": [
          0,
          9,
          30,
          144,
          435,
          1173,
          2475,
          3577,
          4761,
          4815,
          3967,
          2570,
          1308,
          548,
          161,
          46,
          12,
          0,
          1
         ],
         "hovertemplate": "<b>%{y:.2f}</b> <br>total: %{customdata:.2f}<extra></extra>",
         "mode": "markers",
         "name": "Failure probability",
         "type": "scatter",
         "x": [
          7.623473684210527,
          8.102421052631579,
          8.581368421052632,
          9.060315789473684,
          9.539263157894737,
          10.01821052631579,
          10.497157894736844,
          10.976105263157896,
          11.455052631578948,
          11.934000000000001,
          12.412947368421055,
          12.891894736842108,
          13.370842105263158,
          13.849789473684211,
          14.328736842105265,
          14.807684210526318,
          15.286631578947372,
          15.765578947368422,
          16.244526315789475
         ],
         "xaxis": "x9",
         "y": [
          null,
          0.2222222222222222,
          0.23333333333333334,
          0.2708333333333333,
          0.20229885057471264,
          0.2208013640238704,
          0.21858585858585858,
          0.2138663684651943,
          0.208779668136946,
          0.21329179646936655,
          0.20922611545248299,
          0.2140077821011673,
          0.20107033639143732,
          0.22262773722627738,
          0.16149068322981366,
          0.10869565217391304,
          0.25,
          null,
          0
         ],
         "yaxis": "y9"
        },
        {
         "customdata": [
          1,
          1,
          1,
          15,
          114,
          389,
          1133,
          2400,
          4013,
          4855,
          5039,
          3904,
          2381,
          1093,
          417,
          108,
          25,
          4,
          1
         ],
         "hovertemplate": "<b>%{y:.2f}</b> <br>total: %{customdata:.2f}<extra></extra>",
         "mode": "markers",
         "name": "Failure probability",
         "type": "scatter",
         "x": [
          12.325842105263158,
          12.831526315789475,
          13.33721052631579,
          13.842894736842105,
          14.348578947368422,
          14.854263157894737,
          15.359947368421054,
          15.865631578947369,
          16.371315789473684,
          16.877000000000002,
          17.382684210526318,
          17.888368421052633,
          18.394052631578948,
          18.899736842105263,
          19.40542105263158,
          19.911105263157896,
          20.41678947368421,
          20.922473684210527,
          21.42815789473684
         ],
         "xaxis": "x10",
         "y": [
          1,
          1,
          0,
          0.26666666666666666,
          0.19298245614035087,
          0.20565552699228792,
          0.18181818181818182,
          0.20666666666666667,
          0.2093197109394468,
          0.2070030895983522,
          0.21889263742806112,
          0.21567622950819673,
          0.1994960100797984,
          0.24794144556267156,
          0.2446043165467626,
          0.18518518518518517,
          0.24,
          0.5,
          1
         ],
         "yaxis": "y10"
        },
        {
         "customdata": [
          1,
          1,
          5,
          40,
          124,
          388,
          1016,
          2006,
          3306,
          4433,
          4709,
          4205,
          2880,
          1526,
          738,
          297,
          79,
          18,
          2
         ],
         "hovertemplate": "<b>%{y:.2f}</b> <br>total: %{customdata:.2f}<extra></extra>",
         "mode": "markers",
         "name": "Failure probability",
         "type": "scatter",
         "x": [
          12.947315789473684,
          13.411947368421053,
          13.87657894736842,
          14.34121052631579,
          14.805842105263157,
          15.270473684210526,
          15.735105263157894,
          16.199736842105263,
          16.664368421052632,
          17.129,
          17.593631578947367,
          18.058263157894736,
          18.522894736842105,
          18.987526315789474,
          19.452157894736843,
          19.91678947368421,
          20.381421052631577,
          20.846052631578946,
          21.310684210526315
         ],
         "xaxis": "x11",
         "y": [
          0,
          0,
          0.2,
          0.15,
          0.18548387096774194,
          0.18041237113402062,
          0.18799212598425197,
          0.19391824526420737,
          0.22837265577737448,
          0.20482743063388226,
          0.2104480781482268,
          0.21950059453032106,
          0.22395833333333334,
          0.21887287024901703,
          0.21544715447154472,
          0.2255892255892256,
          0.17721518987341772,
          0.1111111111111111,
          0
         ],
         "yaxis": "y11"
        },
        {
         "customdata": [
          8,
          38,
          88,
          246,
          635,
          1261,
          2265,
          3246,
          4197,
          4147,
          3709,
          2730,
          1633,
          871,
          362,
          148,
          38,
          10,
          1
         ],
         "hovertemplate": "<b>%{y:.2f}</b> <br>total: %{customdata:.2f}<extra></extra>",
         "mode": "markers",
         "name": "Failure probability",
         "type": "scatter",
         "x": [
          8.062868421052631,
          8.482605263157893,
          8.902342105263157,
          9.322078947368421,
          9.741815789473684,
          10.161552631578946,
          10.58128947368421,
          11.001026315789474,
          11.420763157894736,
          11.840499999999999,
          12.260236842105263,
          12.679973684210525,
          13.09971052631579,
          13.519447368421051,
          13.939184210526316,
          14.358921052631578,
          14.778657894736842,
          15.198394736842104,
          15.618131578947368
         ],
         "xaxis": "x12",
         "y": [
          0.25,
          0.10526315789473684,
          0.18181818181818182,
          0.21138211382113822,
          0.2094488188976378,
          0.20380650277557494,
          0.20618101545253864,
          0.19377695625385088,
          0.2170598046223493,
          0.2177477694719074,
          0.21838770558101914,
          0.2153846153846154,
          0.21922841396203308,
          0.23421354764638347,
          0.20441988950276244,
          0.20945945945945946,
          0.2894736842105263,
          0.2,
          0
         ],
         "yaxis": "y12"
        },
        {
         "customdata": [
          3,
          8,
          61,
          239,
          647,
          1445,
          2699,
          3972,
          4615,
          4384,
          3508,
          2134,
          1136,
          483,
          141,
          37,
          8,
          1,
          1
         ],
         "hovertemplate": "<b>%{y:.2f}</b> <br>total: %{customdata:.2f}<extra></extra>",
         "mode": "markers",
         "name": "Failure probability",
         "type": "scatter",
         "x": [
          15.119789473684211,
          15.589368421052631,
          16.05894736842105,
          16.52852631578947,
          16.998105263157896,
          17.467684210526315,
          17.937263157894733,
          18.40684210526316,
          18.876421052631578,
          19.345999999999997,
          19.815578947368422,
          20.28515789473684,
          20.75473684210526,
          21.224315789473685,
          21.693894736842104,
          22.163473684210523,
          22.63305263157895,
          23.102631578947367,
          23.572210526315786
         ],
         "xaxis": "x13",
         "y": [
          0,
          0.125,
          0.2459016393442623,
          0.18410041841004185,
          0.18238021638330756,
          0.1972318339100346,
          0.20414968506854392,
          0.2162638469284995,
          0.20888407367280606,
          0.21487226277372262,
          0.22576966932725198,
          0.21883786316776008,
          0.21830985915492956,
          0.22153209109730848,
          0.20567375886524822,
          0.13513513513513514,
          0.5,
          0,
          0
         ],
         "yaxis": "y13"
        },
        {
         "customdata": [
          7,
          25,
          77,
          200,
          561,
          1138,
          2053,
          3052,
          3879,
          4179,
          3796,
          2842,
          1842,
          965,
          472,
          176,
          57,
          18,
          4
         ],
         "hovertemplate": "<b>%{y:.2f}</b> <br>total: %{customdata:.2f}<extra></extra>",
         "mode": "markers",
         "name": "Failure probability",
         "type": "scatter",
         "x": [
          7.744236842105263,
          8.15871052631579,
          8.573184210526316,
          8.987657894736842,
          9.402131578947369,
          9.816605263157896,
          10.23107894736842,
          10.645552631578948,
          11.060026315789475,
          11.474499999999999,
          11.888973684210526,
          12.303447368421054,
          12.717921052631581,
          13.132394736842105,
          13.546868421052633,
          13.96134210526316,
          14.375815789473684,
          14.790289473684211,
          15.204763157894739
         ],
         "xaxis": "x14",
         "y": [
          0,
          0.16,
          0.2077922077922078,
          0.22,
          0.20677361853832443,
          0.2047451669595782,
          0.21578178275694107,
          0.22346002621231978,
          0.205723124516628,
          0.21440536013400335,
          0.20837723919915702,
          0.21674876847290642,
          0.20955483170466885,
          0.1927461139896373,
          0.2309322033898305,
          0.1875,
          0.10526315789473684,
          0.3333333333333333,
          0.25
         ],
         "yaxis": "y14"
        },
        {
         "customdata": [
          4,
          7,
          28,
          86,
          224,
          649,
          1628,
          3276,
          4945,
          5534,
          4499,
          2578,
          1130,
          436,
          192,
          38,
          15,
          1,
          0
         ],
         "hovertemplate": "<b>%{y:.2f}</b> <br>total: %{customdata:.2f}<extra></extra>",
         "mode": "markers",
         "name": "Failure probability",
         "type": "scatter",
         "x": [
          9.540342105263157,
          10.287026315789474,
          11.03371052631579,
          11.780394736842105,
          12.52707894736842,
          13.273763157894736,
          14.020447368421053,
          14.767131578947367,
          15.513815789473684,
          16.2605,
          17.007184210526315,
          17.75386842105263,
          18.500552631578948,
          19.247236842105263,
          19.993921052631578,
          20.740605263157892,
          21.48728947368421,
          22.233973684210525,
          22.98065789473684
         ],
         "xaxis": "x15",
         "y": [
          0,
          0.2857142857142857,
          0.35714285714285715,
          0.20930232558139536,
          0.23660714285714285,
          0.19568567026194145,
          0.2076167076167076,
          0.21275946275946275,
          0.21193124368048533,
          0.21828695337911094,
          0.21049122027117137,
          0.20636152055857254,
          0.22654867256637168,
          0.21330275229357798,
          0.18229166666666666,
          0.13157894736842105,
          0.13333333333333333,
          1,
          null
         ],
         "yaxis": "y15"
        },
        {
         "customdata": [
          4,
          8,
          41,
          121,
          323,
          758,
          1537,
          2703,
          3816,
          4520,
          4348,
          3448,
          1993,
          942,
          359,
          126,
          39,
          10,
          6
         ],
         "hovertemplate": "<b>%{y:.2f}</b> <br>total: %{customdata:.2f}<extra></extra>",
         "mode": "markers",
         "name": "Failure probability",
         "type": "scatter",
         "x": [
          12.807815789473684,
          13.501447368421053,
          14.195078947368422,
          14.88871052631579,
          15.582342105263159,
          16.275973684210527,
          16.969605263157895,
          17.663236842105263,
          18.35686842105263,
          19.0505,
          19.74413157894737,
          20.43776315789474,
          21.131394736842108,
          21.825026315789476,
          22.518657894736844,
          23.212289473684212,
          23.90592105263158,
          24.59955263157895,
          25.293184210526316
         ],
         "xaxis": "x16",
         "y": [
          0,
          0.125,
          0.24390243902439024,
          0.24793388429752067,
          0.19814241486068113,
          0.21767810026385223,
          0.21210149642160053,
          0.21161672216056235,
          0.21567085953878407,
          0.215929203539823,
          0.21780128794848205,
          0.20243619489559164,
          0.21424987456096337,
          0.1921443736730361,
          0.2479108635097493,
          0.16666666666666666,
          0.1282051282051282,
          0.2,
          0.16666666666666666
         ],
         "yaxis": "y16"
        },
        {
         "customdata": [
          7,
          13,
          39,
          148,
          452,
          1140,
          2262,
          3757,
          4563,
          4753,
          3715,
          2309,
          1215,
          431,
          133,
          24,
          6,
          2,
          0
         ],
         "hovertemplate": "<b>%{y:.2f}</b> <br>total: %{customdata:.2f}<extra></extra>",
         "mode": "markers",
         "name": "Failure probability",
         "type": "scatter",
         "x": [
          5.530026315789474,
          6.256078947368421,
          6.982131578947368,
          7.708184210526316,
          8.434236842105264,
          9.16028947368421,
          9.886342105263157,
          10.612394736842106,
          11.338447368421052,
          12.0645,
          12.790552631578947,
          13.516605263157896,
          14.242657894736842,
          14.968710526315789,
          15.694763157894737,
          16.420815789473686,
          17.14686842105263,
          17.87292105263158,
          18.598973684210527
         ],
         "xaxis": "x17",
         "y": [
          0.14285714285714285,
          0.15384615384615385,
          0.23076923076923078,
          0.23648648648648649,
          0.20353982300884957,
          0.22982456140350876,
          0.20159151193633953,
          0.21107266435986158,
          0.20578566732412887,
          0.2141805175678519,
          0.21884253028263795,
          0.1957557384148982,
          0.23703703703703705,
          0.23433874709976799,
          0.18045112781954886,
          0.20833333333333334,
          0.3333333333333333,
          0.5,
          null
         ],
         "yaxis": "y17"
        },
        {
         "customdata": [
          0,
          0,
          5,
          21,
          109,
          520,
          1675,
          3901,
          5954,
          6029,
          3869,
          1745,
          624,
          223,
          79,
          32,
          7,
          1,
          2
         ],
         "hovertemplate": "<b>%{y:.2f}</b> <br>total: %{customdata:.2f}<extra></extra>",
         "mode": "markers",
         "name": "Failure probability",
         "type": "scatter",
         "x": [
          9.564368421052631,
          10.275105263157894,
          10.985842105263158,
          11.69657894736842,
          12.407315789473685,
          13.118052631578948,
          13.82878947368421,
          14.539526315789473,
          15.250263157894736,
          15.960999999999999,
          16.67173684210526,
          17.382473684210527,
          18.09321052631579,
          18.803947368421053,
          19.51468421052632,
          20.22542105263158,
          20.936157894736844,
          21.646894736842107,
          22.35763157894737
         ],
         "xaxis": "x18",
         "y": [
          null,
          null,
          0,
          0.19047619047619047,
          0.2018348623853211,
          0.19423076923076923,
          0.22268656716417912,
          0.20507562163547807,
          0.22220356063150823,
          0.20948747719356445,
          0.21478418195916257,
          0.202865329512894,
          0.19391025641025642,
          0.25112107623318386,
          0.21518987341772153,
          0.25,
          0.2857142857142857,
          0,
          0.5
         ],
         "yaxis": "y18"
        },
        {
         "customdata": [
          1,
          3,
          6,
          40,
          152,
          389,
          1094,
          2328,
          4138,
          5003,
          4594,
          3665,
          2106,
          829,
          264,
          65,
          14,
          5,
          0
         ],
         "hovertemplate": "<b>%{y:.2f}</b> <br>total: %{customdata:.2f}<extra></extra>",
         "mode": "markers",
         "name": "Failure probability",
         "type": "scatter",
         "x": [
          8.802499999999998,
          9.5775,
          10.3525,
          11.127499999999998,
          11.9025,
          12.677499999999998,
          13.4525,
          14.2275,
          15.0025,
          15.7775,
          16.5525,
          17.3275,
          18.1025,
          18.8775,
          19.6525,
          20.4275,
          21.2025,
          21.9775,
          22.7525
         ],
         "xaxis": "x19",
         "y": [
          1,
          0.3333333333333333,
          0,
          0.175,
          0.20394736842105263,
          0.1953727506426735,
          0.2020109689213894,
          0.22766323024054982,
          0.20347994200096664,
          0.2114731161303218,
          0.20744449281671745,
          0.21773533424283764,
          0.2198480531813865,
          0.21230398069963813,
          0.2196969696969697,
          0.26153846153846155,
          0.14285714285714285,
          0.4,
          null
         ],
         "yaxis": "y19"
        },
        {
         "customdata": [
          1,
          10,
          39,
          149,
          414,
          1066,
          2139,
          3583,
          4426,
          4491,
          3587,
          2344,
          1312,
          650,
          240,
          80,
          26,
          2,
          2
         ],
         "hovertemplate": "<b>%{y:.2f}</b> <br>total: %{customdata:.2f}<extra></extra>",
         "mode": "markers",
         "name": "Failure probability",
         "type": "scatter",
         "x": [
          8.777000000000001,
          9.497,
          10.216999999999999,
          10.937000000000001,
          11.657,
          12.376999999999999,
          13.097000000000001,
          13.817,
          14.536999999999999,
          15.257000000000001,
          15.977,
          16.697000000000003,
          17.417,
          18.137,
          18.857,
          19.576999999999998,
          20.297000000000004,
          21.017000000000003,
          21.737000000000002
         ],
         "xaxis": "x20",
         "y": [
          0,
          0.3,
          0.20512820512820512,
          0.16778523489932887,
          0.2246376811594203,
          0.20825515947467166,
          0.20944366526414213,
          0.21378732905386547,
          0.2114776321735201,
          0.22044088176352705,
          0.2121550041817675,
          0.2150170648464164,
          0.19664634146341464,
          0.2169230769230769,
          0.17083333333333334,
          0.15,
          0.38461538461538464,
          0.5,
          0
         ],
         "yaxis": "y20"
        },
        {
         "customdata": [
          5,
          17,
          77,
          208,
          553,
          1443,
          2619,
          3693,
          4032,
          3994,
          3465,
          2187,
          1282,
          550,
          236,
          69,
          19,
          10,
          1
         ],
         "hovertemplate": "<b>%{y:.2f}</b> <br>total: %{customdata:.2f}<extra></extra>",
         "mode": "markers",
         "name": "Failure probability",
         "type": "scatter",
         "x": [
          10.079763157894737,
          10.837289473684212,
          11.594815789473685,
          12.352342105263158,
          13.109868421052632,
          13.867394736842106,
          14.62492105263158,
          15.382447368421053,
          16.139973684210524,
          16.8975,
          17.655026315789474,
          18.412552631578947,
          19.170078947368424,
          19.927605263157893,
          20.68513157894737,
          21.442657894736843,
          22.200184210526317,
          22.957710526315793,
          23.715236842105263
         ],
         "xaxis": "x21",
         "y": [
          0,
          0.058823529411764705,
          0.18181818181818182,
          0.21634615384615385,
          0.189873417721519,
          0.21275121275121275,
          0.2222222222222222,
          0.20606552937990794,
          0.21354166666666666,
          0.21532298447671508,
          0.21818181818181817,
          0.2135345221764975,
          0.21606864274570983,
          0.20727272727272728,
          0.1864406779661017,
          0.21739130434782608,
          0.10526315789473684,
          0.1,
          1
         ],
         "yaxis": "y21"
        },
        {
         "customdata": [
          0,
          0,
          2,
          9,
          48,
          225,
          660,
          1821,
          3542,
          5077,
          5327,
          3988,
          2254,
          969,
          274,
          75,
          12,
          2,
          1
         ],
         "hovertemplate": "<b>%{y:.2f}</b> <br>total: %{customdata:.2f}<extra></extra>",
         "mode": "markers",
         "name": "Failure probability",
         "type": "scatter",
         "x": [
          36.17423684210527,
          105.1807105263158,
          174.1871842105263,
          243.19365789473687,
          312.2001315789474,
          381.20660526315794,
          450.21307894736844,
          519.2195526315791,
          588.2260263157896,
          657.2325000000001,
          726.2389736842106,
          795.2454473684212,
          864.2519210526317,
          933.2583947368423,
          1002.2648684210528,
          1071.2713421052633,
          1140.2778157894738,
          1209.2842894736843,
          1278.2907631578948
         ],
         "xaxis": "x22",
         "y": [
          null,
          null,
          0.5,
          0.1111111111111111,
          0.125,
          0.20444444444444446,
          0.16818181818181818,
          0.19549697968149368,
          0.19932241671372106,
          0.2062241481189679,
          0.21362868406232402,
          0.22417251755265796,
          0.24134871339840283,
          0.2218782249742002,
          0.23722627737226276,
          0.22666666666666666,
          0.08333333333333333,
          1,
          0
         ],
         "yaxis": "y22"
        }
       ],
       "layout": {
        "annotations": [
         {
          "font": {
           "size": 16
          },
          "showarrow": false,
          "text": "id",
          "x": 0.10625,
          "xanchor": "center",
          "xref": "paper",
          "y": 0.9999999999999999,
          "yanchor": "bottom",
          "yref": "paper"
         },
         {
          "font": {
           "size": 16
          },
          "showarrow": false,
          "text": "loading",
          "x": 0.36875,
          "xanchor": "center",
          "xref": "paper",
          "y": 0.9999999999999999,
          "yanchor": "bottom",
          "yref": "paper"
         },
         {
          "font": {
           "size": 16
          },
          "showarrow": false,
          "text": "attribute_2",
          "x": 0.6312500000000001,
          "xanchor": "center",
          "xref": "paper",
          "y": 0.9999999999999999,
          "yanchor": "bottom",
          "yref": "paper"
         },
         {
          "font": {
           "size": 16
          },
          "showarrow": false,
          "text": "attribute_3",
          "x": 0.89375,
          "xanchor": "center",
          "xref": "paper",
          "y": 0.9999999999999999,
          "yanchor": "bottom",
          "yref": "paper"
         },
         {
          "font": {
           "size": 16
          },
          "showarrow": false,
          "text": "measurement_0",
          "x": 0.10625,
          "xanchor": "center",
          "xref": "paper",
          "y": 0.8194444444444444,
          "yanchor": "bottom",
          "yref": "paper"
         },
         {
          "font": {
           "size": 16
          },
          "showarrow": false,
          "text": "measurement_1",
          "x": 0.36875,
          "xanchor": "center",
          "xref": "paper",
          "y": 0.8194444444444444,
          "yanchor": "bottom",
          "yref": "paper"
         },
         {
          "font": {
           "size": 16
          },
          "showarrow": false,
          "text": "measurement_2",
          "x": 0.6312500000000001,
          "xanchor": "center",
          "xref": "paper",
          "y": 0.8194444444444444,
          "yanchor": "bottom",
          "yref": "paper"
         },
         {
          "font": {
           "size": 16
          },
          "showarrow": false,
          "text": "measurement_3",
          "x": 0.89375,
          "xanchor": "center",
          "xref": "paper",
          "y": 0.8194444444444444,
          "yanchor": "bottom",
          "yref": "paper"
         },
         {
          "font": {
           "size": 16
          },
          "showarrow": false,
          "text": "measurement_4",
          "x": 0.10625,
          "xanchor": "center",
          "xref": "paper",
          "y": 0.638888888888889,
          "yanchor": "bottom",
          "yref": "paper"
         },
         {
          "font": {
           "size": 16
          },
          "showarrow": false,
          "text": "measurement_5",
          "x": 0.36875,
          "xanchor": "center",
          "xref": "paper",
          "y": 0.638888888888889,
          "yanchor": "bottom",
          "yref": "paper"
         },
         {
          "font": {
           "size": 16
          },
          "showarrow": false,
          "text": "measurement_6",
          "x": 0.6312500000000001,
          "xanchor": "center",
          "xref": "paper",
          "y": 0.638888888888889,
          "yanchor": "bottom",
          "yref": "paper"
         },
         {
          "font": {
           "size": 16
          },
          "showarrow": false,
          "text": "measurement_7",
          "x": 0.89375,
          "xanchor": "center",
          "xref": "paper",
          "y": 0.638888888888889,
          "yanchor": "bottom",
          "yref": "paper"
         },
         {
          "font": {
           "size": 16
          },
          "showarrow": false,
          "text": "measurement_8",
          "x": 0.10625,
          "xanchor": "center",
          "xref": "paper",
          "y": 0.4583333333333333,
          "yanchor": "bottom",
          "yref": "paper"
         },
         {
          "font": {
           "size": 16
          },
          "showarrow": false,
          "text": "measurement_9",
          "x": 0.36875,
          "xanchor": "center",
          "xref": "paper",
          "y": 0.4583333333333333,
          "yanchor": "bottom",
          "yref": "paper"
         },
         {
          "font": {
           "size": 16
          },
          "showarrow": false,
          "text": "measurement_10",
          "x": 0.6312500000000001,
          "xanchor": "center",
          "xref": "paper",
          "y": 0.4583333333333333,
          "yanchor": "bottom",
          "yref": "paper"
         },
         {
          "font": {
           "size": 16
          },
          "showarrow": false,
          "text": "measurement_11",
          "x": 0.89375,
          "xanchor": "center",
          "xref": "paper",
          "y": 0.4583333333333333,
          "yanchor": "bottom",
          "yref": "paper"
         },
         {
          "font": {
           "size": 16
          },
          "showarrow": false,
          "text": "measurement_12",
          "x": 0.10625,
          "xanchor": "center",
          "xref": "paper",
          "y": 0.2777777777777778,
          "yanchor": "bottom",
          "yref": "paper"
         },
         {
          "font": {
           "size": 16
          },
          "showarrow": false,
          "text": "measurement_13",
          "x": 0.36875,
          "xanchor": "center",
          "xref": "paper",
          "y": 0.2777777777777778,
          "yanchor": "bottom",
          "yref": "paper"
         },
         {
          "font": {
           "size": 16
          },
          "showarrow": false,
          "text": "measurement_14",
          "x": 0.6312500000000001,
          "xanchor": "center",
          "xref": "paper",
          "y": 0.2777777777777778,
          "yanchor": "bottom",
          "yref": "paper"
         },
         {
          "font": {
           "size": 16
          },
          "showarrow": false,
          "text": "measurement_15",
          "x": 0.89375,
          "xanchor": "center",
          "xref": "paper",
          "y": 0.2777777777777778,
          "yanchor": "bottom",
          "yref": "paper"
         },
         {
          "font": {
           "size": 16
          },
          "showarrow": false,
          "text": "measurement_16",
          "x": 0.10625,
          "xanchor": "center",
          "xref": "paper",
          "y": 0.09722222222222222,
          "yanchor": "bottom",
          "yref": "paper"
         },
         {
          "font": {
           "size": 16
          },
          "showarrow": false,
          "text": "measurement_17",
          "x": 0.36875,
          "xanchor": "center",
          "xref": "paper",
          "y": 0.09722222222222222,
          "yanchor": "bottom",
          "yref": "paper"
         }
        ],
        "barmode": "overlay",
        "height": 1500,
        "template": {
         "data": {
          "bar": [
           {
            "error_x": {
             "color": "#2a3f5f"
            },
            "error_y": {
             "color": "#2a3f5f"
            },
            "marker": {
             "line": {
              "color": "#E5ECF6",
              "width": 0.5
             },
             "pattern": {
              "fillmode": "overlay",
              "size": 10,
              "solidity": 0.2
             }
            },
            "type": "bar"
           }
          ],
          "barpolar": [
           {
            "marker": {
             "line": {
              "color": "#E5ECF6",
              "width": 0.5
             },
             "pattern": {
              "fillmode": "overlay",
              "size": 10,
              "solidity": 0.2
             }
            },
            "type": "barpolar"
           }
          ],
          "carpet": [
           {
            "aaxis": {
             "endlinecolor": "#2a3f5f",
             "gridcolor": "white",
             "linecolor": "white",
             "minorgridcolor": "white",
             "startlinecolor": "#2a3f5f"
            },
            "baxis": {
             "endlinecolor": "#2a3f5f",
             "gridcolor": "white",
             "linecolor": "white",
             "minorgridcolor": "white",
             "startlinecolor": "#2a3f5f"
            },
            "type": "carpet"
           }
          ],
          "choropleth": [
           {
            "colorbar": {
             "outlinewidth": 0,
             "ticks": ""
            },
            "type": "choropleth"
           }
          ],
          "contour": [
           {
            "colorbar": {
             "outlinewidth": 0,
             "ticks": ""
            },
            "colorscale": [
             [
              0,
              "#0d0887"
             ],
             [
              0.1111111111111111,
              "#46039f"
             ],
             [
              0.2222222222222222,
              "#7201a8"
             ],
             [
              0.3333333333333333,
              "#9c179e"
             ],
             [
              0.4444444444444444,
              "#bd3786"
             ],
             [
              0.5555555555555556,
              "#d8576b"
             ],
             [
              0.6666666666666666,
              "#ed7953"
             ],
             [
              0.7777777777777778,
              "#fb9f3a"
             ],
             [
              0.8888888888888888,
              "#fdca26"
             ],
             [
              1,
              "#f0f921"
             ]
            ],
            "type": "contour"
           }
          ],
          "contourcarpet": [
           {
            "colorbar": {
             "outlinewidth": 0,
             "ticks": ""
            },
            "type": "contourcarpet"
           }
          ],
          "heatmap": [
           {
            "colorbar": {
             "outlinewidth": 0,
             "ticks": ""
            },
            "colorscale": [
             [
              0,
              "#0d0887"
             ],
             [
              0.1111111111111111,
              "#46039f"
             ],
             [
              0.2222222222222222,
              "#7201a8"
             ],
             [
              0.3333333333333333,
              "#9c179e"
             ],
             [
              0.4444444444444444,
              "#bd3786"
             ],
             [
              0.5555555555555556,
              "#d8576b"
             ],
             [
              0.6666666666666666,
              "#ed7953"
             ],
             [
              0.7777777777777778,
              "#fb9f3a"
             ],
             [
              0.8888888888888888,
              "#fdca26"
             ],
             [
              1,
              "#f0f921"
             ]
            ],
            "type": "heatmap"
           }
          ],
          "heatmapgl": [
           {
            "colorbar": {
             "outlinewidth": 0,
             "ticks": ""
            },
            "colorscale": [
             [
              0,
              "#0d0887"
             ],
             [
              0.1111111111111111,
              "#46039f"
             ],
             [
              0.2222222222222222,
              "#7201a8"
             ],
             [
              0.3333333333333333,
              "#9c179e"
             ],
             [
              0.4444444444444444,
              "#bd3786"
             ],
             [
              0.5555555555555556,
              "#d8576b"
             ],
             [
              0.6666666666666666,
              "#ed7953"
             ],
             [
              0.7777777777777778,
              "#fb9f3a"
             ],
             [
              0.8888888888888888,
              "#fdca26"
             ],
             [
              1,
              "#f0f921"
             ]
            ],
            "type": "heatmapgl"
           }
          ],
          "histogram": [
           {
            "marker": {
             "pattern": {
              "fillmode": "overlay",
              "size": 10,
              "solidity": 0.2
             }
            },
            "type": "histogram"
           }
          ],
          "histogram2d": [
           {
            "colorbar": {
             "outlinewidth": 0,
             "ticks": ""
            },
            "colorscale": [
             [
              0,
              "#0d0887"
             ],
             [
              0.1111111111111111,
              "#46039f"
             ],
             [
              0.2222222222222222,
              "#7201a8"
             ],
             [
              0.3333333333333333,
              "#9c179e"
             ],
             [
              0.4444444444444444,
              "#bd3786"
             ],
             [
              0.5555555555555556,
              "#d8576b"
             ],
             [
              0.6666666666666666,
              "#ed7953"
             ],
             [
              0.7777777777777778,
              "#fb9f3a"
             ],
             [
              0.8888888888888888,
              "#fdca26"
             ],
             [
              1,
              "#f0f921"
             ]
            ],
            "type": "histogram2d"
           }
          ],
          "histogram2dcontour": [
           {
            "colorbar": {
             "outlinewidth": 0,
             "ticks": ""
            },
            "colorscale": [
             [
              0,
              "#0d0887"
             ],
             [
              0.1111111111111111,
              "#46039f"
             ],
             [
              0.2222222222222222,
              "#7201a8"
             ],
             [
              0.3333333333333333,
              "#9c179e"
             ],
             [
              0.4444444444444444,
              "#bd3786"
             ],
             [
              0.5555555555555556,
              "#d8576b"
             ],
             [
              0.6666666666666666,
              "#ed7953"
             ],
             [
              0.7777777777777778,
              "#fb9f3a"
             ],
             [
              0.8888888888888888,
              "#fdca26"
             ],
             [
              1,
              "#f0f921"
             ]
            ],
            "type": "histogram2dcontour"
           }
          ],
          "mesh3d": [
           {
            "colorbar": {
             "outlinewidth": 0,
             "ticks": ""
            },
            "type": "mesh3d"
           }
          ],
          "parcoords": [
           {
            "line": {
             "colorbar": {
              "outlinewidth": 0,
              "ticks": ""
             }
            },
            "type": "parcoords"
           }
          ],
          "pie": [
           {
            "automargin": true,
            "type": "pie"
           }
          ],
          "scatter": [
           {
            "marker": {
             "colorbar": {
              "outlinewidth": 0,
              "ticks": ""
             }
            },
            "type": "scatter"
           }
          ],
          "scatter3d": [
           {
            "line": {
             "colorbar": {
              "outlinewidth": 0,
              "ticks": ""
             }
            },
            "marker": {
             "colorbar": {
              "outlinewidth": 0,
              "ticks": ""
             }
            },
            "type": "scatter3d"
           }
          ],
          "scattercarpet": [
           {
            "marker": {
             "colorbar": {
              "outlinewidth": 0,
              "ticks": ""
             }
            },
            "type": "scattercarpet"
           }
          ],
          "scattergeo": [
           {
            "marker": {
             "colorbar": {
              "outlinewidth": 0,
              "ticks": ""
             }
            },
            "type": "scattergeo"
           }
          ],
          "scattergl": [
           {
            "marker": {
             "colorbar": {
              "outlinewidth": 0,
              "ticks": ""
             }
            },
            "type": "scattergl"
           }
          ],
          "scattermapbox": [
           {
            "marker": {
             "colorbar": {
              "outlinewidth": 0,
              "ticks": ""
             }
            },
            "type": "scattermapbox"
           }
          ],
          "scatterpolar": [
           {
            "marker": {
             "colorbar": {
              "outlinewidth": 0,
              "ticks": ""
             }
            },
            "type": "scatterpolar"
           }
          ],
          "scatterpolargl": [
           {
            "marker": {
             "colorbar": {
              "outlinewidth": 0,
              "ticks": ""
             }
            },
            "type": "scatterpolargl"
           }
          ],
          "scatterternary": [
           {
            "marker": {
             "colorbar": {
              "outlinewidth": 0,
              "ticks": ""
             }
            },
            "type": "scatterternary"
           }
          ],
          "surface": [
           {
            "colorbar": {
             "outlinewidth": 0,
             "ticks": ""
            },
            "colorscale": [
             [
              0,
              "#0d0887"
             ],
             [
              0.1111111111111111,
              "#46039f"
             ],
             [
              0.2222222222222222,
              "#7201a8"
             ],
             [
              0.3333333333333333,
              "#9c179e"
             ],
             [
              0.4444444444444444,
              "#bd3786"
             ],
             [
              0.5555555555555556,
              "#d8576b"
             ],
             [
              0.6666666666666666,
              "#ed7953"
             ],
             [
              0.7777777777777778,
              "#fb9f3a"
             ],
             [
              0.8888888888888888,
              "#fdca26"
             ],
             [
              1,
              "#f0f921"
             ]
            ],
            "type": "surface"
           }
          ],
          "table": [
           {
            "cells": {
             "fill": {
              "color": "#EBF0F8"
             },
             "line": {
              "color": "white"
             }
            },
            "header": {
             "fill": {
              "color": "#C8D4E3"
             },
             "line": {
              "color": "white"
             }
            },
            "type": "table"
           }
          ]
         },
         "layout": {
          "annotationdefaults": {
           "arrowcolor": "#2a3f5f",
           "arrowhead": 0,
           "arrowwidth": 1
          },
          "autotypenumbers": "strict",
          "coloraxis": {
           "colorbar": {
            "outlinewidth": 0,
            "ticks": ""
           }
          },
          "colorscale": {
           "diverging": [
            [
             0,
             "#8e0152"
            ],
            [
             0.1,
             "#c51b7d"
            ],
            [
             0.2,
             "#de77ae"
            ],
            [
             0.3,
             "#f1b6da"
            ],
            [
             0.4,
             "#fde0ef"
            ],
            [
             0.5,
             "#f7f7f7"
            ],
            [
             0.6,
             "#e6f5d0"
            ],
            [
             0.7,
             "#b8e186"
            ],
            [
             0.8,
             "#7fbc41"
            ],
            [
             0.9,
             "#4d9221"
            ],
            [
             1,
             "#276419"
            ]
           ],
           "sequential": [
            [
             0,
             "#0d0887"
            ],
            [
             0.1111111111111111,
             "#46039f"
            ],
            [
             0.2222222222222222,
             "#7201a8"
            ],
            [
             0.3333333333333333,
             "#9c179e"
            ],
            [
             0.4444444444444444,
             "#bd3786"
            ],
            [
             0.5555555555555556,
             "#d8576b"
            ],
            [
             0.6666666666666666,
             "#ed7953"
            ],
            [
             0.7777777777777778,
             "#fb9f3a"
            ],
            [
             0.8888888888888888,
             "#fdca26"
            ],
            [
             1,
             "#f0f921"
            ]
           ],
           "sequentialminus": [
            [
             0,
             "#0d0887"
            ],
            [
             0.1111111111111111,
             "#46039f"
            ],
            [
             0.2222222222222222,
             "#7201a8"
            ],
            [
             0.3333333333333333,
             "#9c179e"
            ],
            [
             0.4444444444444444,
             "#bd3786"
            ],
            [
             0.5555555555555556,
             "#d8576b"
            ],
            [
             0.6666666666666666,
             "#ed7953"
            ],
            [
             0.7777777777777778,
             "#fb9f3a"
            ],
            [
             0.8888888888888888,
             "#fdca26"
            ],
            [
             1,
             "#f0f921"
            ]
           ]
          },
          "colorway": [
           "#636efa",
           "#EF553B",
           "#00cc96",
           "#ab63fa",
           "#FFA15A",
           "#19d3f3",
           "#FF6692",
           "#B6E880",
           "#FF97FF",
           "#FECB52"
          ],
          "font": {
           "color": "#2a3f5f"
          },
          "geo": {
           "bgcolor": "white",
           "lakecolor": "white",
           "landcolor": "#E5ECF6",
           "showlakes": true,
           "showland": true,
           "subunitcolor": "white"
          },
          "hoverlabel": {
           "align": "left"
          },
          "hovermode": "closest",
          "mapbox": {
           "style": "light"
          },
          "paper_bgcolor": "white",
          "plot_bgcolor": "#E5ECF6",
          "polar": {
           "angularaxis": {
            "gridcolor": "white",
            "linecolor": "white",
            "ticks": ""
           },
           "bgcolor": "#E5ECF6",
           "radialaxis": {
            "gridcolor": "white",
            "linecolor": "white",
            "ticks": ""
           }
          },
          "scene": {
           "xaxis": {
            "backgroundcolor": "#E5ECF6",
            "gridcolor": "white",
            "gridwidth": 2,
            "linecolor": "white",
            "showbackground": true,
            "ticks": "",
            "zerolinecolor": "white"
           },
           "yaxis": {
            "backgroundcolor": "#E5ECF6",
            "gridcolor": "white",
            "gridwidth": 2,
            "linecolor": "white",
            "showbackground": true,
            "ticks": "",
            "zerolinecolor": "white"
           },
           "zaxis": {
            "backgroundcolor": "#E5ECF6",
            "gridcolor": "white",
            "gridwidth": 2,
            "linecolor": "white",
            "showbackground": true,
            "ticks": "",
            "zerolinecolor": "white"
           }
          },
          "shapedefaults": {
           "line": {
            "color": "#2a3f5f"
           }
          },
          "ternary": {
           "aaxis": {
            "gridcolor": "white",
            "linecolor": "white",
            "ticks": ""
           },
           "baxis": {
            "gridcolor": "white",
            "linecolor": "white",
            "ticks": ""
           },
           "bgcolor": "#E5ECF6",
           "caxis": {
            "gridcolor": "white",
            "linecolor": "white",
            "ticks": ""
           }
          },
          "title": {
           "x": 0.05
          },
          "xaxis": {
           "automargin": true,
           "gridcolor": "white",
           "linecolor": "white",
           "ticks": "",
           "title": {
            "standoff": 15
           },
           "zerolinecolor": "white",
           "zerolinewidth": 2
          },
          "yaxis": {
           "automargin": true,
           "gridcolor": "white",
           "linecolor": "white",
           "ticks": "",
           "title": {
            "standoff": 15
           },
           "zerolinecolor": "white",
           "zerolinewidth": 2
          }
         }
        },
        "width": 1500,
        "xaxis": {
         "anchor": "y",
         "domain": [
          0,
          0.2125
         ]
        },
        "xaxis10": {
         "anchor": "y10",
         "domain": [
          0.2625,
          0.475
         ]
        },
        "xaxis11": {
         "anchor": "y11",
         "domain": [
          0.525,
          0.7375
         ]
        },
        "xaxis12": {
         "anchor": "y12",
         "domain": [
          0.7875,
          1
         ]
        },
        "xaxis13": {
         "anchor": "y13",
         "domain": [
          0,
          0.2125
         ]
        },
        "xaxis14": {
         "anchor": "y14",
         "domain": [
          0.2625,
          0.475
         ]
        },
        "xaxis15": {
         "anchor": "y15",
         "domain": [
          0.525,
          0.7375
         ]
        },
        "xaxis16": {
         "anchor": "y16",
         "domain": [
          0.7875,
          1
         ]
        },
        "xaxis17": {
         "anchor": "y17",
         "domain": [
          0,
          0.2125
         ]
        },
        "xaxis18": {
         "anchor": "y18",
         "domain": [
          0.2625,
          0.475
         ]
        },
        "xaxis19": {
         "anchor": "y19",
         "domain": [
          0.525,
          0.7375
         ]
        },
        "xaxis2": {
         "anchor": "y2",
         "domain": [
          0.2625,
          0.475
         ]
        },
        "xaxis20": {
         "anchor": "y20",
         "domain": [
          0.7875,
          1
         ]
        },
        "xaxis21": {
         "anchor": "y21",
         "domain": [
          0,
          0.2125
         ]
        },
        "xaxis22": {
         "anchor": "y22",
         "domain": [
          0.2625,
          0.475
         ]
        },
        "xaxis23": {
         "anchor": "y23",
         "domain": [
          0.525,
          0.7375
         ]
        },
        "xaxis24": {
         "anchor": "y24",
         "domain": [
          0.7875,
          1
         ]
        },
        "xaxis3": {
         "anchor": "y3",
         "domain": [
          0.525,
          0.7375
         ]
        },
        "xaxis4": {
         "anchor": "y4",
         "domain": [
          0.7875,
          1
         ]
        },
        "xaxis5": {
         "anchor": "y5",
         "domain": [
          0,
          0.2125
         ]
        },
        "xaxis6": {
         "anchor": "y6",
         "domain": [
          0.2625,
          0.475
         ]
        },
        "xaxis7": {
         "anchor": "y7",
         "domain": [
          0.525,
          0.7375
         ]
        },
        "xaxis8": {
         "anchor": "y8",
         "domain": [
          0.7875,
          1
         ]
        },
        "xaxis9": {
         "anchor": "y9",
         "domain": [
          0,
          0.2125
         ]
        },
        "yaxis": {
         "anchor": "x",
         "domain": [
          0.9027777777777777,
          0.9999999999999999
         ]
        },
        "yaxis10": {
         "anchor": "x10",
         "domain": [
          0.5416666666666667,
          0.638888888888889
         ]
        },
        "yaxis11": {
         "anchor": "x11",
         "domain": [
          0.5416666666666667,
          0.638888888888889
         ]
        },
        "yaxis12": {
         "anchor": "x12",
         "domain": [
          0.5416666666666667,
          0.638888888888889
         ]
        },
        "yaxis13": {
         "anchor": "x13",
         "domain": [
          0.3611111111111111,
          0.4583333333333333
         ]
        },
        "yaxis14": {
         "anchor": "x14",
         "domain": [
          0.3611111111111111,
          0.4583333333333333
         ]
        },
        "yaxis15": {
         "anchor": "x15",
         "domain": [
          0.3611111111111111,
          0.4583333333333333
         ]
        },
        "yaxis16": {
         "anchor": "x16",
         "domain": [
          0.3611111111111111,
          0.4583333333333333
         ]
        },
        "yaxis17": {
         "anchor": "x17",
         "domain": [
          0.18055555555555555,
          0.2777777777777778
         ]
        },
        "yaxis18": {
         "anchor": "x18",
         "domain": [
          0.18055555555555555,
          0.2777777777777778
         ]
        },
        "yaxis19": {
         "anchor": "x19",
         "domain": [
          0.18055555555555555,
          0.2777777777777778
         ]
        },
        "yaxis2": {
         "anchor": "x2",
         "domain": [
          0.9027777777777777,
          0.9999999999999999
         ]
        },
        "yaxis20": {
         "anchor": "x20",
         "domain": [
          0.18055555555555555,
          0.2777777777777778
         ]
        },
        "yaxis21": {
         "anchor": "x21",
         "domain": [
          0,
          0.09722222222222222
         ]
        },
        "yaxis22": {
         "anchor": "x22",
         "domain": [
          0,
          0.09722222222222222
         ]
        },
        "yaxis23": {
         "anchor": "x23",
         "domain": [
          0,
          0.09722222222222222
         ]
        },
        "yaxis24": {
         "anchor": "x24",
         "domain": [
          0,
          0.09722222222222222
         ]
        },
        "yaxis3": {
         "anchor": "x3",
         "domain": [
          0.9027777777777777,
          0.9999999999999999
         ]
        },
        "yaxis4": {
         "anchor": "x4",
         "domain": [
          0.9027777777777777,
          0.9999999999999999
         ]
        },
        "yaxis5": {
         "anchor": "x5",
         "domain": [
          0.7222222222222222,
          0.8194444444444444
         ]
        },
        "yaxis6": {
         "anchor": "x6",
         "domain": [
          0.7222222222222222,
          0.8194444444444444
         ]
        },
        "yaxis7": {
         "anchor": "x7",
         "domain": [
          0.7222222222222222,
          0.8194444444444444
         ]
        },
        "yaxis8": {
         "anchor": "x8",
         "domain": [
          0.7222222222222222,
          0.8194444444444444
         ]
        },
        "yaxis9": {
         "anchor": "x9",
         "domain": [
          0.5416666666666667,
          0.638888888888889
         ]
        }
       }
      }
     },
     "metadata": {},
     "output_type": "display_data"
    }
   ],
   "source": [
    "float_cols = [f for f in df_test.columns if df_test[f].dtype in [float, int]]\n",
    "bin_num = 20\n",
    "df_target_prob = pd.DataFrame(data={'idx':range(bin_num-1)})\n",
    "\n",
    "fig = make_subplots(\n",
    "    rows=6,\n",
    "    cols=4,\n",
    "    #start_cell='bottom-left', # どのセルを起点とするか\n",
    "    subplot_titles=float_cols,\n",
    "    shared_xaxes=False, # x軸を共有する場合\n",
    "    shared_yaxes=False, # y軸を共有する場合\n",
    ")\n",
    "\n",
    "for idx, f in enumerate(float_cols):\n",
    "    min_val = min(df_train[f].min(), df_test[f].min())\n",
    "    max_val = max(df_train[f].max(), df_test[f].max())\n",
    "    bins = np.linspace(min_val, max_val, bin_num)\n",
    "\n",
    "    total, _ = np.histogram(df_train[f], bins=bins)\n",
    "    failures, _ = np.histogram(df_train[f][df_train.failure == 1], bins=bins)\n",
    "\n",
    "    df_target_prob[f'{f}_fail'] = failures\n",
    "    df_target_prob[f'{f}_total'] = total\n",
    "    df_target_prob[f'{f}_prob'] = failures / total\n",
    "\n",
    "\n",
    "    #with warnings.catch_warnings(): # ignore divide by zero for empty bins\n",
    "    #    warnings.filterwarnings('ignore', category=RuntimeWarning)\n",
    "\n",
    "    fig.add_trace(\n",
    "        go.Scatter(\n",
    "            x=(bins[1:] + bins[:-1]) / 2,\n",
    "            y=failures / total,\n",
    "            #y=total,\n",
    "            name='Failure probability',\n",
    "            mode='markers',\n",
    "            #marker=dict(size=1, color='red'),\n",
    "            #line=dict(color='black'),\n",
    "            customdata=total,\n",
    "            hovertemplate=\"<b>%{y:.2f}</b> <br>total: %{customdata:.2f}<extra></extra>\",\n",
    "        ),\n",
    "        row=int(idx/4) + 1,\n",
    "        col=idx%4 + 1\n",
    "    )\n",
    "\n",
    "fig.update_layout(\n",
    "    barmode='overlay',\n",
    "    width=1500,\n",
    "    height=1500,\n",
    ")\n",
    "\n",
    "fig.show()"
   ]
  },
  {
   "cell_type": "code",
   "execution_count": null,
   "metadata": {},
   "outputs": [],
   "source": []
  },
  {
   "cell_type": "code",
   "execution_count": 14,
   "metadata": {},
   "outputs": [
    {
     "data": {
      "application/vnd.plotly.v1+json": {
       "config": {
        "plotlyServerURL": "https://plot.ly"
       },
       "data": [
        {
         "name": "Corr",
         "type": "heatmap",
         "x": [
          "id",
          "loading",
          "attribute_2",
          "attribute_3",
          "measurement_0",
          "measurement_1",
          "measurement_2",
          "measurement_3",
          "measurement_4",
          "measurement_5",
          "measurement_6",
          "measurement_7",
          "measurement_8",
          "measurement_9",
          "measurement_10",
          "measurement_11",
          "measurement_12",
          "measurement_13",
          "measurement_14",
          "measurement_15",
          "measurement_16",
          "measurement_17",
          "failure"
         ],
         "y": [
          "id",
          "loading",
          "attribute_2",
          "attribute_3",
          "measurement_0",
          "measurement_1",
          "measurement_2",
          "measurement_3",
          "measurement_4",
          "measurement_5",
          "measurement_6",
          "measurement_7",
          "measurement_8",
          "measurement_9",
          "measurement_10",
          "measurement_11",
          "measurement_12",
          "measurement_13",
          "measurement_14",
          "measurement_15",
          "measurement_16",
          "measurement_17",
          "failure"
         ],
         "z": [
          [
           1,
           0.004304944135788851,
           -0.7412004772276808,
           0.5588813763737137,
           -0.2536264964077565,
           0.40020632446356574,
           0.00012822940083057123,
           -0.0059234047371912795,
           0.011313116277389311,
           -0.00700060771544048,
           0.008734311184703301,
           -0.011880889798729295,
           0.0004365860197607531,
           0.0015503079912024184,
           -0.029610753523691045,
           0.00952381432363535,
           -0.15121960331352977,
           -0.037559479345561884,
           -0.05374432418173624,
           0.08395080266855666,
           -0.05984922072884417,
           -0.0009825602395027565,
           -0.007545109781745912
          ],
          [
           0.004304944135788851,
           1,
           -0.008208265256466068,
           -0.0007564697614279399,
           -0.005577817926311741,
           0.002532342270826132,
           0.0003027866040505274,
           -0.005202751435034008,
           -0.011791608419389756,
           -0.0055985829535476475,
           0.0073099872840795424,
           -0.0017727912516267194,
           -0.0029984029181258118,
           -0.007750631014288578,
           -0.007525423527275299,
           0.0035935645825848303,
           -0.0024066437246317734,
           0.006137785137606661,
           0.00012032614954939278,
           -0.008086829439681543,
           -0.0006331426833653752,
           0.0003054960382278565,
           0.12908852887246633
          ],
          [
           -0.7412004772276808,
           -0.008208265256466068,
           1,
           -0.538696993583111,
           0.17538689623205583,
           -0.3779710825935356,
           0.03052181149240131,
           0.005848640877545958,
           -0.01179739473187687,
           0.006811157279878138,
           -0.002180513007059985,
           0.010337564940719798,
           -0.001716724778729861,
           -0.000098021542392157,
           -0.004952814769847754,
           0.09403819065093007,
           0.22675638602042883,
           0.04963902522448302,
           0.02092058531187975,
           -0.1612416214074714,
           0.035795252729188654,
           0.004728910642096862,
           0.006336975021852948
          ],
          [
           0.5588813763737137,
           -0.0007564697614279399,
           -0.538696993583111,
           1,
           -0.37023170789856713,
           0.3292325267960209,
           0.013258344643279676,
           -0.002265161812094544,
           0.01547018660456747,
           -0.004034386636772036,
           0.00011923636517890077,
           -0.00804616879116868,
           -0.006232803348508962,
           -0.002295239955103277,
           -0.10084508073572634,
           -0.025433892778812882,
           -0.13206025721896472,
           0.02847210559923783,
           -0.049711033812295094,
           0.18751859771758753,
           -0.06151953032985464,
           -0.0014184268159554234,
           -0.01922213433101654
          ],
          [
           -0.2536264964077565,
           -0.005577817926311741,
           0.17538689623205583,
           -0.37023170789856713,
           1,
           -0.25525465488803767,
           -0.08381283390285363,
           -0.004890363176934189,
           -0.006458863420284047,
           0.0033044385981543254,
           0.00373083121047332,
           0.0006691732535097859,
           -0.0050370824993721175,
           0.009112099762325245,
           0.032778808872108454,
           0.0018783472554996863,
           0.03349605610577044,
           -0.03152654987582087,
           0.021906687718120214,
           -0.055430572409313296,
           0.003025451423247801,
           0.003351086791523025,
           0.009645933201494298
          ],
          [
           0.40020632446356574,
           0.002532342270826132,
           -0.3779710825935356,
           0.3292325267960209,
           -0.25525465488803767,
           1,
           0.005032162407816716,
           -0.008363228063418318,
           0.0015351551312711006,
           -0.005586787110459463,
           -0.0015624061423450948,
           -0.01697727877677339,
           0.0002860948880475918,
           0.004529238214247365,
           0.011985782845289571,
           -0.03531249816758247,
           -0.08460539573377036,
           0.0075234024442165605,
           -0.011471130388260555,
           0.06087023958905762,
           -0.004509115395919921,
           -0.004650727645760344,
           -0.010809988608657724
          ],
          [
           0.00012822940083057123,
           0.0003027866040505274,
           0.03052181149240131,
           0.013258344643279676,
           -0.08381283390285363,
           0.005032162407816716,
           1,
           -0.0027507438750388213,
           -0.009797131902862891,
           0.00024140083972847348,
           -0.009157324465055624,
           0.002011813565456495,
           0.0005911341893184562,
           0.0018842339008951557,
           0.018694823148064938,
           -0.003877265689900327,
           -0.0018078509176061802,
           0.029144886777700774,
           0.014622804247154305,
           0.00013789745134388132,
           0.03308758020540059,
           -0.009595596724246456,
           0.01580756575056398
          ],
          [
           -0.0059234047371912795,
           -0.005202751435034008,
           0.005848640877545958,
           -0.002265161812094544,
           -0.004890363176934189,
           -0.008363228063418318,
           -0.0027507438750388213,
           1,
           0.00957293902858564,
           0.009864111327836524,
           0.008322417106474429,
           0.006110824395777716,
           0.001285517143428253,
           0.008195415959200333,
           -0.004853745488678955,
           -0.004426622101751122,
           0.002444598503034233,
           0.0058932806744852176,
           0.0021504905248180242,
           -0.010986341529100784,
           -0.0021641443280010116,
           0.08090167561946492,
           0.0035768283713515283
          ],
          [
           0.011313116277389311,
           -0.011791608419389756,
           -0.01179739473187687,
           0.01547018660456747,
           -0.006458863420284047,
           0.0015351551312711006,
           -0.009797131902862891,
           0.00957293902858564,
           1,
           0.005112646543837647,
           0.001681743752925338,
           -0.004629953004511877,
           0.006374019430935449,
           0.009079671136586394,
           -0.012997583787728103,
           -0.0027840837701888737,
           -0.0025856467651851874,
           -0.0024540604045578916,
           -0.0017129904296113237,
           -0.00456706499901106,
           0.00292874094316792,
           0.19304499856326518,
           -0.010488110572352362
          ],
          [
           -0.00700060771544048,
           -0.0055985829535476475,
           0.006811157279878138,
           -0.004034386636772036,
           0.0033044385981543254,
           -0.005586787110459463,
           0.00024140083972847348,
           0.009864111327836524,
           0.005112646543837647,
           1,
           0.006404521080215794,
           -0.006421834537936639,
           -0.004960087327750232,
           -0.0035889645044707903,
           0.0021695856369785037,
           0.00530569538223665,
           0.0008580963143263437,
           -0.009324956782327162,
           0.008720303160642161,
           -0.009101057803855348,
           -0.002995783475249037,
           0.45002427698439024,
           0.018078821477475457
          ],
          [
           0.008734311184703301,
           0.0073099872840795424,
           -0.002180513007059985,
           0.00011923636517890077,
           0.00373083121047332,
           -0.0015624061423450948,
           -0.009157324465055624,
           0.008322417106474429,
           0.001681743752925338,
           0.006404521080215794,
           1,
           0.004974157495035362,
           -0.00008040775984155164,
           0.006013612720007771,
           0.00013825457289654526,
           -0.0021673580295095488,
           -0.010889331141282526,
           -0.004766952941996102,
           -0.0011278802040994788,
           0.0008569077800539762,
           -0.004489546991681154,
           0.3281357546068463,
           0.014791019365984823
          ],
          [
           -0.011880889798729295,
           -0.0017727912516267194,
           0.010337564940719798,
           -0.00804616879116868,
           0.0006691732535097859,
           -0.01697727877677339,
           0.002011813565456495,
           0.006110824395777716,
           -0.004629953004511877,
           -0.006421834537936639,
           0.004974157495035362,
           1,
           0.003676771327329077,
           0.0027931923910930264,
           -0.0007285818871147786,
           -0.007547967138910695,
           0.004150002585238599,
           -0.002730081625029676,
           0.0034927036273086774,
           -0.003582866005069108,
           -0.009376668739598583,
           0.3303276539773414,
           0.016786676108848746
          ],
          [
           0.0004365860197607531,
           -0.0029984029181258118,
           -0.001716724778729861,
           -0.006232803348508962,
           -0.0050370824993721175,
           0.0002860948880475918,
           0.0005911341893184562,
           0.001285517143428253,
           0.006374019430935449,
           -0.004960087327750232,
           -0.00008040775984155164,
           0.003676771327329077,
           1,
           -0.0002575489088075651,
           -0.003069562195804799,
           -0.014865177982229702,
           -0.0011289499965286356,
           -0.007110890204078915,
           -0.0038673623151668115,
           0.0173366980629576,
           0.0022420679132555315,
           0.49283886402736243,
           0.01711945861678666
          ],
          [
           0.0015503079912024184,
           -0.007750631014288578,
           -0.000098021542392157,
           -0.002295239955103277,
           0.009112099762325245,
           0.004529238214247365,
           0.0018842339008951557,
           0.008195415959200333,
           0.009079671136586394,
           -0.0035889645044707903,
           0.006013612720007771,
           0.0027931923910930264,
           -0.0002575489088075651,
           1,
           -0.006713358918438828,
           -0.007011579044147993,
           -0.007172504258057152,
           -0.006097825456833357,
           -0.011113545811992467,
           -0.003586512154322622,
           -0.002176070337650096,
           0.14546540690868984,
           -0.003587424513430341
          ],
          [
           -0.029610753523691045,
           -0.007525423527275299,
           -0.004952814769847754,
           -0.10084508073572634,
           0.032778808872108454,
           0.011985782845289571,
           0.018694823148064938,
           -0.004853745488678955,
           -0.012997583787728103,
           0.0021695856369785037,
           0.00013825457289654526,
           -0.0007285818871147786,
           -0.003069562195804799,
           -0.006713358918438828,
           1,
           -0.03541995497596884,
           0.031195031671823973,
           0.031348697563163004,
           0.038032991407355596,
           -0.05382922158896812,
           0.004403343681303992,
           0.0004773282867340813,
           -0.0015154288511522768
          ],
          [
           0.00952381432363535,
           0.0035935645825848303,
           0.09403819065093007,
           -0.025433892778812882,
           0.0018783472554996863,
           -0.03531249816758247,
           -0.003877265689900327,
           -0.004426622101751122,
           -0.0027840837701888737,
           0.00530569538223665,
           -0.0021673580295095488,
           -0.007547967138910695,
           -0.014865177982229702,
           -0.007011579044147993,
           -0.03541995497596884,
           1,
           0.08862018234799343,
           -0.09563382397618825,
           -0.08634899730042041,
           -0.02612707456750582,
           0.09105901502421804,
           -0.011974547049761414,
           -0.0048014263775962825
          ],
          [
           -0.15121960331352977,
           -0.0024066437246317734,
           0.22675638602042883,
           -0.13206025721896472,
           0.03349605610577044,
           -0.08460539573377036,
           -0.0018078509176061802,
           0.002444598503034233,
           -0.0025856467651851874,
           0.0008580963143263437,
           -0.010889331141282526,
           0.004150002585238599,
           -0.0011289499965286356,
           -0.007172504258057152,
           0.031195031671823973,
           0.08862018234799343,
           1,
           0.0023990453226870496,
           -0.02497674938960106,
           -0.1525828091153642,
           0.09542981204788364,
           -0.005552388895140332,
           0.004398103485909907
          ],
          [
           -0.037559479345561884,
           0.006137785137606661,
           0.04963902522448302,
           0.02847210559923783,
           -0.03152654987582087,
           0.0075234024442165605,
           0.029144886777700774,
           0.0058932806744852176,
           -0.0024540604045578916,
           -0.009324956782327162,
           -0.004766952941996102,
           -0.002730081625029676,
           -0.007110890204078915,
           -0.006097825456833357,
           0.031348697563163004,
           -0.09563382397618825,
           0.0023990453226870496,
           1,
           0.005000901790016992,
           0.028483165557812523,
           0.13149478715304896,
           -0.013250324951286432,
           -0.0018312953233657484
          ],
          [
           -0.05374432418173624,
           0.00012032614954939278,
           0.02092058531187975,
           -0.049711033812295094,
           0.021906687718120214,
           -0.011471130388260555,
           0.014622804247154305,
           0.0021504905248180242,
           -0.0017129904296113237,
           0.008720303160642161,
           -0.0011278802040994788,
           0.0034927036273086774,
           -0.0038673623151668115,
           -0.011113545811992467,
           0.038032991407355596,
           -0.08634899730042041,
           -0.02497674938960106,
           0.005000901790016992,
           1,
           0.014073254073009148,
           -0.0897982818782622,
           0.0011274707382215423,
           0.006210892587765196
          ],
          [
           0.08395080266855666,
           -0.008086829439681543,
           -0.1612416214074714,
           0.18751859771758753,
           -0.055430572409313296,
           0.06087023958905762,
           0.00013789745134388132,
           -0.010986341529100784,
           -0.00456706499901106,
           -0.009101057803855348,
           0.0008569077800539762,
           -0.003582866005069108,
           0.0173366980629576,
           -0.003586512154322622,
           -0.05382922158896812,
           -0.02612707456750582,
           -0.1525828091153642,
           0.028483165557812523,
           0.014073254073009148,
           1,
           0.028169924576742996,
           0.0031602681508353723,
           -0.003544022781733803
          ],
          [
           -0.05984922072884417,
           -0.0006331426833653752,
           0.035795252729188654,
           -0.06151953032985464,
           0.003025451423247801,
           -0.004509115395919921,
           0.03308758020540059,
           -0.0021641443280010116,
           0.00292874094316792,
           -0.002995783475249037,
           -0.004489546991681154,
           -0.009376668739598583,
           0.0022420679132555315,
           -0.002176070337650096,
           0.004403343681303992,
           0.09105901502421804,
           0.09542981204788364,
           0.13149478715304896,
           -0.0897982818782622,
           0.028169924576742996,
           1,
           -0.0026065577820144274,
           0.0022369674556234707
          ],
          [
           -0.0009825602395027565,
           0.0003054960382278565,
           0.004728910642096862,
           -0.0014184268159554234,
           0.003351086791523025,
           -0.004650727645760344,
           -0.009595596724246456,
           0.08090167561946492,
           0.19304499856326518,
           0.45002427698439024,
           0.3281357546068463,
           0.3303276539773414,
           0.49283886402736243,
           0.14546540690868984,
           0.0004773282867340813,
           -0.011974547049761414,
           -0.005552388895140332,
           -0.013250324951286432,
           0.0011274707382215423,
           0.0031602681508353723,
           -0.0026065577820144274,
           1,
           0.03390500256712103
          ],
          [
           -0.007545109781745912,
           0.12908852887246633,
           0.006336975021852948,
           -0.01922213433101654,
           0.009645933201494298,
           -0.010809988608657724,
           0.01580756575056398,
           0.0035768283713515283,
           -0.010488110572352362,
           0.018078821477475457,
           0.014791019365984823,
           0.016786676108848746,
           0.01711945861678666,
           -0.003587424513430341,
           -0.0015154288511522768,
           -0.0048014263775962825,
           0.004398103485909907,
           -0.0018312953233657484,
           0.006210892587765196,
           -0.003544022781733803,
           0.0022369674556234707,
           0.03390500256712103,
           1
          ]
         ]
        }
       ],
       "layout": {
        "font": {
         "family": "Franklin Gothic",
         "size": 12
        },
        "height": 1500,
        "template": {
         "data": {
          "bar": [
           {
            "error_x": {
             "color": "#f2f5fa"
            },
            "error_y": {
             "color": "#f2f5fa"
            },
            "marker": {
             "line": {
              "color": "rgb(17,17,17)",
              "width": 0.5
             },
             "pattern": {
              "fillmode": "overlay",
              "size": 10,
              "solidity": 0.2
             }
            },
            "type": "bar"
           }
          ],
          "barpolar": [
           {
            "marker": {
             "line": {
              "color": "rgb(17,17,17)",
              "width": 0.5
             },
             "pattern": {
              "fillmode": "overlay",
              "size": 10,
              "solidity": 0.2
             }
            },
            "type": "barpolar"
           }
          ],
          "carpet": [
           {
            "aaxis": {
             "endlinecolor": "#A2B1C6",
             "gridcolor": "#506784",
             "linecolor": "#506784",
             "minorgridcolor": "#506784",
             "startlinecolor": "#A2B1C6"
            },
            "baxis": {
             "endlinecolor": "#A2B1C6",
             "gridcolor": "#506784",
             "linecolor": "#506784",
             "minorgridcolor": "#506784",
             "startlinecolor": "#A2B1C6"
            },
            "type": "carpet"
           }
          ],
          "choropleth": [
           {
            "colorbar": {
             "outlinewidth": 0,
             "ticks": ""
            },
            "type": "choropleth"
           }
          ],
          "contour": [
           {
            "colorbar": {
             "outlinewidth": 0,
             "ticks": ""
            },
            "colorscale": [
             [
              0,
              "#0d0887"
             ],
             [
              0.1111111111111111,
              "#46039f"
             ],
             [
              0.2222222222222222,
              "#7201a8"
             ],
             [
              0.3333333333333333,
              "#9c179e"
             ],
             [
              0.4444444444444444,
              "#bd3786"
             ],
             [
              0.5555555555555556,
              "#d8576b"
             ],
             [
              0.6666666666666666,
              "#ed7953"
             ],
             [
              0.7777777777777778,
              "#fb9f3a"
             ],
             [
              0.8888888888888888,
              "#fdca26"
             ],
             [
              1,
              "#f0f921"
             ]
            ],
            "type": "contour"
           }
          ],
          "contourcarpet": [
           {
            "colorbar": {
             "outlinewidth": 0,
             "ticks": ""
            },
            "type": "contourcarpet"
           }
          ],
          "heatmap": [
           {
            "colorbar": {
             "outlinewidth": 0,
             "ticks": ""
            },
            "colorscale": [
             [
              0,
              "#0d0887"
             ],
             [
              0.1111111111111111,
              "#46039f"
             ],
             [
              0.2222222222222222,
              "#7201a8"
             ],
             [
              0.3333333333333333,
              "#9c179e"
             ],
             [
              0.4444444444444444,
              "#bd3786"
             ],
             [
              0.5555555555555556,
              "#d8576b"
             ],
             [
              0.6666666666666666,
              "#ed7953"
             ],
             [
              0.7777777777777778,
              "#fb9f3a"
             ],
             [
              0.8888888888888888,
              "#fdca26"
             ],
             [
              1,
              "#f0f921"
             ]
            ],
            "type": "heatmap"
           }
          ],
          "heatmapgl": [
           {
            "colorbar": {
             "outlinewidth": 0,
             "ticks": ""
            },
            "colorscale": [
             [
              0,
              "#0d0887"
             ],
             [
              0.1111111111111111,
              "#46039f"
             ],
             [
              0.2222222222222222,
              "#7201a8"
             ],
             [
              0.3333333333333333,
              "#9c179e"
             ],
             [
              0.4444444444444444,
              "#bd3786"
             ],
             [
              0.5555555555555556,
              "#d8576b"
             ],
             [
              0.6666666666666666,
              "#ed7953"
             ],
             [
              0.7777777777777778,
              "#fb9f3a"
             ],
             [
              0.8888888888888888,
              "#fdca26"
             ],
             [
              1,
              "#f0f921"
             ]
            ],
            "type": "heatmapgl"
           }
          ],
          "histogram": [
           {
            "marker": {
             "pattern": {
              "fillmode": "overlay",
              "size": 10,
              "solidity": 0.2
             }
            },
            "type": "histogram"
           }
          ],
          "histogram2d": [
           {
            "colorbar": {
             "outlinewidth": 0,
             "ticks": ""
            },
            "colorscale": [
             [
              0,
              "#0d0887"
             ],
             [
              0.1111111111111111,
              "#46039f"
             ],
             [
              0.2222222222222222,
              "#7201a8"
             ],
             [
              0.3333333333333333,
              "#9c179e"
             ],
             [
              0.4444444444444444,
              "#bd3786"
             ],
             [
              0.5555555555555556,
              "#d8576b"
             ],
             [
              0.6666666666666666,
              "#ed7953"
             ],
             [
              0.7777777777777778,
              "#fb9f3a"
             ],
             [
              0.8888888888888888,
              "#fdca26"
             ],
             [
              1,
              "#f0f921"
             ]
            ],
            "type": "histogram2d"
           }
          ],
          "histogram2dcontour": [
           {
            "colorbar": {
             "outlinewidth": 0,
             "ticks": ""
            },
            "colorscale": [
             [
              0,
              "#0d0887"
             ],
             [
              0.1111111111111111,
              "#46039f"
             ],
             [
              0.2222222222222222,
              "#7201a8"
             ],
             [
              0.3333333333333333,
              "#9c179e"
             ],
             [
              0.4444444444444444,
              "#bd3786"
             ],
             [
              0.5555555555555556,
              "#d8576b"
             ],
             [
              0.6666666666666666,
              "#ed7953"
             ],
             [
              0.7777777777777778,
              "#fb9f3a"
             ],
             [
              0.8888888888888888,
              "#fdca26"
             ],
             [
              1,
              "#f0f921"
             ]
            ],
            "type": "histogram2dcontour"
           }
          ],
          "mesh3d": [
           {
            "colorbar": {
             "outlinewidth": 0,
             "ticks": ""
            },
            "type": "mesh3d"
           }
          ],
          "parcoords": [
           {
            "line": {
             "colorbar": {
              "outlinewidth": 0,
              "ticks": ""
             }
            },
            "type": "parcoords"
           }
          ],
          "pie": [
           {
            "automargin": true,
            "type": "pie"
           }
          ],
          "scatter": [
           {
            "marker": {
             "line": {
              "color": "#283442"
             }
            },
            "type": "scatter"
           }
          ],
          "scatter3d": [
           {
            "line": {
             "colorbar": {
              "outlinewidth": 0,
              "ticks": ""
             }
            },
            "marker": {
             "colorbar": {
              "outlinewidth": 0,
              "ticks": ""
             }
            },
            "type": "scatter3d"
           }
          ],
          "scattercarpet": [
           {
            "marker": {
             "colorbar": {
              "outlinewidth": 0,
              "ticks": ""
             }
            },
            "type": "scattercarpet"
           }
          ],
          "scattergeo": [
           {
            "marker": {
             "colorbar": {
              "outlinewidth": 0,
              "ticks": ""
             }
            },
            "type": "scattergeo"
           }
          ],
          "scattergl": [
           {
            "marker": {
             "line": {
              "color": "#283442"
             }
            },
            "type": "scattergl"
           }
          ],
          "scattermapbox": [
           {
            "marker": {
             "colorbar": {
              "outlinewidth": 0,
              "ticks": ""
             }
            },
            "type": "scattermapbox"
           }
          ],
          "scatterpolar": [
           {
            "marker": {
             "colorbar": {
              "outlinewidth": 0,
              "ticks": ""
             }
            },
            "type": "scatterpolar"
           }
          ],
          "scatterpolargl": [
           {
            "marker": {
             "colorbar": {
              "outlinewidth": 0,
              "ticks": ""
             }
            },
            "type": "scatterpolargl"
           }
          ],
          "scatterternary": [
           {
            "marker": {
             "colorbar": {
              "outlinewidth": 0,
              "ticks": ""
             }
            },
            "type": "scatterternary"
           }
          ],
          "surface": [
           {
            "colorbar": {
             "outlinewidth": 0,
             "ticks": ""
            },
            "colorscale": [
             [
              0,
              "#0d0887"
             ],
             [
              0.1111111111111111,
              "#46039f"
             ],
             [
              0.2222222222222222,
              "#7201a8"
             ],
             [
              0.3333333333333333,
              "#9c179e"
             ],
             [
              0.4444444444444444,
              "#bd3786"
             ],
             [
              0.5555555555555556,
              "#d8576b"
             ],
             [
              0.6666666666666666,
              "#ed7953"
             ],
             [
              0.7777777777777778,
              "#fb9f3a"
             ],
             [
              0.8888888888888888,
              "#fdca26"
             ],
             [
              1,
              "#f0f921"
             ]
            ],
            "type": "surface"
           }
          ],
          "table": [
           {
            "cells": {
             "fill": {
              "color": "#506784"
             },
             "line": {
              "color": "rgb(17,17,17)"
             }
            },
            "header": {
             "fill": {
              "color": "#2a3f5f"
             },
             "line": {
              "color": "rgb(17,17,17)"
             }
            },
            "type": "table"
           }
          ]
         },
         "layout": {
          "annotationdefaults": {
           "arrowcolor": "#f2f5fa",
           "arrowhead": 0,
           "arrowwidth": 1
          },
          "autotypenumbers": "strict",
          "coloraxis": {
           "colorbar": {
            "outlinewidth": 0,
            "ticks": ""
           }
          },
          "colorscale": {
           "diverging": [
            [
             0,
             "#8e0152"
            ],
            [
             0.1,
             "#c51b7d"
            ],
            [
             0.2,
             "#de77ae"
            ],
            [
             0.3,
             "#f1b6da"
            ],
            [
             0.4,
             "#fde0ef"
            ],
            [
             0.5,
             "#f7f7f7"
            ],
            [
             0.6,
             "#e6f5d0"
            ],
            [
             0.7,
             "#b8e186"
            ],
            [
             0.8,
             "#7fbc41"
            ],
            [
             0.9,
             "#4d9221"
            ],
            [
             1,
             "#276419"
            ]
           ],
           "sequential": [
            [
             0,
             "#0d0887"
            ],
            [
             0.1111111111111111,
             "#46039f"
            ],
            [
             0.2222222222222222,
             "#7201a8"
            ],
            [
             0.3333333333333333,
             "#9c179e"
            ],
            [
             0.4444444444444444,
             "#bd3786"
            ],
            [
             0.5555555555555556,
             "#d8576b"
            ],
            [
             0.6666666666666666,
             "#ed7953"
            ],
            [
             0.7777777777777778,
             "#fb9f3a"
            ],
            [
             0.8888888888888888,
             "#fdca26"
            ],
            [
             1,
             "#f0f921"
            ]
           ],
           "sequentialminus": [
            [
             0,
             "#0d0887"
            ],
            [
             0.1111111111111111,
             "#46039f"
            ],
            [
             0.2222222222222222,
             "#7201a8"
            ],
            [
             0.3333333333333333,
             "#9c179e"
            ],
            [
             0.4444444444444444,
             "#bd3786"
            ],
            [
             0.5555555555555556,
             "#d8576b"
            ],
            [
             0.6666666666666666,
             "#ed7953"
            ],
            [
             0.7777777777777778,
             "#fb9f3a"
            ],
            [
             0.8888888888888888,
             "#fdca26"
            ],
            [
             1,
             "#f0f921"
            ]
           ]
          },
          "colorway": [
           "#636efa",
           "#EF553B",
           "#00cc96",
           "#ab63fa",
           "#FFA15A",
           "#19d3f3",
           "#FF6692",
           "#B6E880",
           "#FF97FF",
           "#FECB52"
          ],
          "font": {
           "color": "#f2f5fa"
          },
          "geo": {
           "bgcolor": "rgb(17,17,17)",
           "lakecolor": "rgb(17,17,17)",
           "landcolor": "rgb(17,17,17)",
           "showlakes": true,
           "showland": true,
           "subunitcolor": "#506784"
          },
          "hoverlabel": {
           "align": "left"
          },
          "hovermode": "closest",
          "mapbox": {
           "style": "dark"
          },
          "paper_bgcolor": "rgb(17,17,17)",
          "plot_bgcolor": "rgb(17,17,17)",
          "polar": {
           "angularaxis": {
            "gridcolor": "#506784",
            "linecolor": "#506784",
            "ticks": ""
           },
           "bgcolor": "rgb(17,17,17)",
           "radialaxis": {
            "gridcolor": "#506784",
            "linecolor": "#506784",
            "ticks": ""
           }
          },
          "scene": {
           "xaxis": {
            "backgroundcolor": "rgb(17,17,17)",
            "gridcolor": "#506784",
            "gridwidth": 2,
            "linecolor": "#506784",
            "showbackground": true,
            "ticks": "",
            "zerolinecolor": "#C8D4E3"
           },
           "yaxis": {
            "backgroundcolor": "rgb(17,17,17)",
            "gridcolor": "#506784",
            "gridwidth": 2,
            "linecolor": "#506784",
            "showbackground": true,
            "ticks": "",
            "zerolinecolor": "#C8D4E3"
           },
           "zaxis": {
            "backgroundcolor": "rgb(17,17,17)",
            "gridcolor": "#506784",
            "gridwidth": 2,
            "linecolor": "#506784",
            "showbackground": true,
            "ticks": "",
            "zerolinecolor": "#C8D4E3"
           }
          },
          "shapedefaults": {
           "line": {
            "color": "#f2f5fa"
           }
          },
          "sliderdefaults": {
           "bgcolor": "#C8D4E3",
           "bordercolor": "rgb(17,17,17)",
           "borderwidth": 1,
           "tickwidth": 0
          },
          "ternary": {
           "aaxis": {
            "gridcolor": "#506784",
            "linecolor": "#506784",
            "ticks": ""
           },
           "baxis": {
            "gridcolor": "#506784",
            "linecolor": "#506784",
            "ticks": ""
           },
           "bgcolor": "rgb(17,17,17)",
           "caxis": {
            "gridcolor": "#506784",
            "linecolor": "#506784",
            "ticks": ""
           }
          },
          "title": {
           "x": 0.05
          },
          "updatemenudefaults": {
           "bgcolor": "#506784",
           "borderwidth": 0
          },
          "xaxis": {
           "automargin": true,
           "gridcolor": "#283442",
           "linecolor": "#506784",
           "ticks": "",
           "title": {
            "standoff": 15
           },
           "zerolinecolor": "#283442",
           "zerolinewidth": 2
          },
          "yaxis": {
           "automargin": true,
           "gridcolor": "#283442",
           "linecolor": "#506784",
           "ticks": "",
           "title": {
            "standoff": 15
           },
           "zerolinecolor": "#283442",
           "zerolinewidth": 2
          }
         }
        },
        "width": 1500
       }
      }
     },
     "metadata": {},
     "output_type": "display_data"
    }
   ],
   "source": [
    "# 相関行列を生成\n",
    "df_corr = df_train.corr()\n",
    "\n",
    "fig = go.Figure(layout=plotly_template['layout'])\n",
    "\n",
    "fig.add_trace(\n",
    "    go.Heatmap(\n",
    "        x=df_corr.columns,\n",
    "        y=df_corr.index,\n",
    "        z=np.array(df_corr),\n",
    "        #annotation_text=np.around(np.array(df_corr), decimals=2),\n",
    "        #y=total,\n",
    "        name='Corr',\n",
    "        #mode='markers',\n",
    "        #marker=dict(size=1, color='red'),\n",
    "        #line=dict(color='black'),\n",
    "        #customdata=total,\n",
    "        #hovertemplate=\"<b>%{y:.2f}</b> <br>total: %{customdata:.2f}<extra></extra>\",\n",
    "    ),\n",
    ")\n",
    "\n",
    "fig.update_layout(\n",
    "    width=1500,\n",
    "    height=1500,\n",
    ")\n",
    "\n",
    "fig.show()"
   ]
  },
  {
   "cell_type": "code",
   "execution_count": null,
   "metadata": {},
   "outputs": [],
   "source": []
  },
  {
   "cell_type": "code",
   "execution_count": null,
   "metadata": {},
   "outputs": [],
   "source": []
  },
  {
   "cell_type": "code",
   "execution_count": null,
   "metadata": {},
   "outputs": [],
   "source": []
  },
  {
   "cell_type": "code",
   "execution_count": null,
   "metadata": {},
   "outputs": [],
   "source": []
  },
  {
   "cell_type": "code",
   "execution_count": null,
   "metadata": {},
   "outputs": [],
   "source": []
  },
  {
   "cell_type": "code",
   "execution_count": null,
   "metadata": {},
   "outputs": [],
   "source": []
  },
  {
   "cell_type": "code",
   "execution_count": null,
   "metadata": {},
   "outputs": [],
   "source": []
  },
  {
   "cell_type": "code",
   "execution_count": null,
   "metadata": {},
   "outputs": [],
   "source": []
  },
  {
   "cell_type": "markdown",
   "metadata": {},
   "source": [
    "### Check distribution"
   ]
  },
  {
   "cell_type": "code",
   "execution_count": null,
   "metadata": {},
   "outputs": [],
   "source": [
    "fig = go.Figure(layout=plotly_template['layout'])\n",
    "\n",
    "fig.add_trace(\n",
    "    go.Histogram(\n",
    "        x=df_train['measurement_4'],\n",
    "        name='Train',\n",
    "        histnorm='probability',\n",
    "        #marker=dict(size=15, color='red'),\n",
    "        #line=dict(color='black')\n",
    "    )\n",
    ")\n",
    "fig.add_trace(\n",
    "    go.Histogram(\n",
    "        x=df_test['measurement_4'],\n",
    "        name='Test',\n",
    "        histnorm='probability',\n",
    "        #marker=dict(size=15, color='red'),\n",
    "        #line=dict(color='black')\n",
    "    )\n",
    ")\n",
    "\n",
    "fig.update_layout(barmode='overlay')\n",
    "fig.show()"
   ]
  },
  {
   "cell_type": "markdown",
   "metadata": {},
   "source": [
    "### Train と Test　の分布"
   ]
  },
  {
   "cell_type": "code",
   "execution_count": null,
   "metadata": {},
   "outputs": [],
   "source": [
    "fig = make_subplots(\n",
    "    rows=6,\n",
    "    cols=4,\n",
    "    #start_cell='bottom-left', # どのセルを起点とするか\n",
    "    subplot_titles=features_list,\n",
    "    shared_xaxes=False, # x軸を共有する場合\n",
    "    shared_yaxes=False, # y軸を共有する場合\n",
    ")\n",
    "\n",
    "for idx, col in enumerate(features_list):\n",
    "    fig.add_trace(\n",
    "        go.Histogram(\n",
    "            x=df_train[col],\n",
    "            name=f'{col}(Train)',\n",
    "            histnorm='probability',\n",
    "            marker=dict(color=color_palette['Bin'][0]),\n",
    "            #line=dict(color='black')\n",
    "        ),\n",
    "        row=int(idx/4) + 1,\n",
    "        col=idx%4 + 1\n",
    "    )\n",
    "    fig.add_trace(\n",
    "        go.Histogram(\n",
    "            x=df_test[col],\n",
    "            name=f'{col}(Test)',\n",
    "            histnorm='probability',\n",
    "            marker=dict(color=color_palette['Bin'][1]),\n",
    "            opacity=0.5\n",
    "            #line=dict(color='black')\n",
    "        ),\n",
    "        row=int(idx/4) + 1,\n",
    "        col=idx%4 + 1\n",
    "    )\n",
    "\n",
    "\n",
    "fig.update_layout(\n",
    "    barmode='overlay',\n",
    "    width=1500,\n",
    "    height=1500,\n",
    ")\n",
    "fig.show()"
   ]
  },
  {
   "cell_type": "code",
   "execution_count": null,
   "metadata": {},
   "outputs": [],
   "source": []
  },
  {
   "cell_type": "markdown",
   "metadata": {},
   "source": [
    "### Targetの分布"
   ]
  },
  {
   "cell_type": "code",
   "execution_count": null,
   "metadata": {},
   "outputs": [],
   "source": [
    "df_train[Config.target].unique()"
   ]
  },
  {
   "cell_type": "code",
   "execution_count": null,
   "metadata": {},
   "outputs": [],
   "source": [
    "fig = make_subplots(\n",
    "    rows=6,\n",
    "    cols=4,\n",
    "    #start_cell='bottom-left', # どのセルを起点とするか\n",
    "    subplot_titles=features_list,\n",
    "    shared_xaxes=False, # x軸を共有する場合\n",
    "    shared_yaxes=False, # y軸を共有する場合\n",
    ")\n",
    "\n",
    "for idx, col in enumerate(features_list):\n",
    "    fig.add_trace(\n",
    "        go.Histogram(\n",
    "            x=df_train[df_train[Config.target] == 0][col],\n",
    "            name=f'{col}(False)',\n",
    "            histnorm='probability',\n",
    "            marker=dict(color=color_palette['Bin'][0]),\n",
    "            #line=dict(color='black')\n",
    "        ),\n",
    "        row=int(idx/4) + 1,\n",
    "        col=idx%4 + 1\n",
    "    )\n",
    "    fig.add_trace(\n",
    "        go.Histogram(\n",
    "            x=df_train[df_train[Config.target] == 1][col],\n",
    "            name=f'{col}(True)',\n",
    "            histnorm='probability',\n",
    "            marker=dict(color=color_palette['Bin'][1]),\n",
    "            opacity=0.5\n",
    "            #line=dict(color='black')\n",
    "        ),\n",
    "        row=int(idx/4) + 1,\n",
    "        col=idx%4 + 1\n",
    "    )\n",
    "\n",
    "\n",
    "fig.update_layout(\n",
    "    barmode='overlay',\n",
    "    width=1500,\n",
    "    height=1500,\n",
    ")\n",
    "fig.show()"
   ]
  },
  {
   "cell_type": "code",
   "execution_count": null,
   "metadata": {},
   "outputs": [],
   "source": [
    "fig = make_subplots(\n",
    "    rows=6,\n",
    "    cols=4,\n",
    "    #start_cell='bottom-left', # どのセルを起点とするか\n",
    "    subplot_titles=features_list,\n",
    "    shared_xaxes=False, # x軸を共有する場合\n",
    "    shared_yaxes=False, # y軸を共有する場合\n",
    ")\n",
    "\n",
    "for idx, col in enumerate(features_list):\n",
    "    fig.add_trace(\n",
    "        go.Box(\n",
    "            x=df_train[df_train[Config.target] == 0][col],\n",
    "            name=f'{col}(False)',\n",
    "            #histnorm='probability',\n",
    "            marker=dict(color=color_palette['Bin'][0]),\n",
    "            #line=dict(color='black')\n",
    "        ),\n",
    "        row=int(idx/4) + 1,\n",
    "        col=idx%4 + 1\n",
    "    )\n",
    "    fig.add_trace(\n",
    "        go.Box(\n",
    "            x=df_train[df_train[Config.target] == 1][col],\n",
    "            name=f'{col}(True)',\n",
    "            #histnorm='probability',\n",
    "            marker=dict(color=color_palette['Bin'][1]),\n",
    "            #opacity=0.5\n",
    "            #line=dict(color='black')\n",
    "        ),\n",
    "        row=int(idx/4) + 1,\n",
    "        col=idx%4 + 1\n",
    "    )\n",
    "\n",
    "\n",
    "fig.update_layout(\n",
    "    barmode='overlay',\n",
    "    width=1500,\n",
    "    height=1500,\n",
    ")\n",
    "fig.show()"
   ]
  },
  {
   "cell_type": "markdown",
   "metadata": {},
   "source": [
    "### product_code ごとの分布"
   ]
  },
  {
   "cell_type": "code",
   "execution_count": null,
   "metadata": {},
   "outputs": [],
   "source": [
    "fig = make_subplots(\n",
    "    rows=6,\n",
    "    cols=4,\n",
    "    #start_cell='bottom-left', # どのセルを起点とするか\n",
    "    subplot_titles=features_list,\n",
    "    shared_xaxes=False, # x軸を共有する場合\n",
    "    shared_yaxes=False, # y軸を共有する場合\n",
    ")\n",
    "\n",
    "for idx, col in enumerate(features_list):\n",
    "    fig.add_trace(\n",
    "        go.Histogram(\n",
    "            x=df_train[(df_train['product_code'] == 'A') & (df_train[Config.target] == 0)][col],\n",
    "            name=f'{col}(False)',\n",
    "            histnorm='probability',\n",
    "            marker=dict(color=color_palette['Cat5'][0]),\n",
    "            #line=dict(color='black')\n",
    "        ),\n",
    "        row=int(idx/4) + 1,\n",
    "        col=idx%4 + 1\n",
    "    )\n",
    "    fig.add_trace(\n",
    "        go.Histogram(\n",
    "            x=df_train[(df_train['product_code'] == 'A') & (df_train[Config.target] == 1)][col],\n",
    "            name=f'{col}(True)',\n",
    "            histnorm='probability',\n",
    "            marker=dict(color=color_palette['Cat5'][1]),\n",
    "            opacity=0.5\n",
    "            #line=dict(color='black')\n",
    "        ),\n",
    "        row=int(idx/4) + 1,\n",
    "        col=idx%4 + 1\n",
    "    )\n",
    "\n",
    "\n",
    "fig.update_layout(\n",
    "    barmode='overlay',\n",
    "    width=1500,\n",
    "    height=1500,\n",
    ")\n",
    "fig.show()"
   ]
  },
  {
   "cell_type": "code",
   "execution_count": null,
   "metadata": {},
   "outputs": [],
   "source": [
    "df_target_pivot = pd.DataFrame(data={'Positive':df_train.groupby('product_code')[Config.target].mean() * 100})\n",
    "df_target_pivot['Negative'] = (1 - df_train.groupby('product_code')[Config.target].mean()) * 100\n",
    "df_target_pivot"
   ]
  },
  {
   "cell_type": "code",
   "execution_count": null,
   "metadata": {},
   "outputs": [],
   "source": [
    "fig = go.Figure(layout=plotly_template['layout'])\n",
    "\n",
    "fig.add_trace(go.Bar(x=df_target_pivot.index, y=df_target_pivot['Positive'], name='Positive',\n",
    "                     text=df_target_pivot['Positive'], texttemplate='%{text:.0f}%',\n",
    "                     textposition='inside', insidetextanchor=\"middle\",\n",
    "                     marker=dict(color=color_palette['Bin'][1]),\n",
    "                     hovertemplate = \"<b>%{x}</b><br>Paid accounts: %{y:.2f}%\"))\n",
    "\n",
    "fig.add_trace(go.Bar(x=df_target_pivot.index, y=df_target_pivot['Negative'], name='Negative',\n",
    "                     text=df_target_pivot['Negative'], texttemplate='%{text:.0f}%',\n",
    "                     textposition='inside',insidetextanchor=\"middle\",\n",
    "                     marker=dict(color=color_palette['Bin'][0]),\n",
    "                     hovertemplate = \"<b>%{x}</b><br>Default accounts: %{y:.2f}%\"))\n",
    "\n",
    "fig.update_layout(title='Distribution of Failure',\n",
    "                  barmode='relative', yaxis_ticksuffix='%', width=1400,\n",
    "                  #legend=dict(orientation=\"h\", traceorder=\"reversed\", yanchor=\"bottom\", y=0, xanchor=\"left\", x=0),\n",
    "                  legend=dict(orientation=\"h\", traceorder=\"reversed\", y=1.1, x=0.8),\n",
    "                  xaxis_title='product code', yaxis_title='Percentage of Positive')\n",
    "\n",
    "fig.show()"
   ]
  },
  {
   "cell_type": "code",
   "execution_count": null,
   "metadata": {},
   "outputs": [],
   "source": []
  },
  {
   "cell_type": "code",
   "execution_count": null,
   "metadata": {},
   "outputs": [],
   "source": []
  },
  {
   "cell_type": "code",
   "execution_count": null,
   "metadata": {},
   "outputs": [],
   "source": []
  },
  {
   "cell_type": "code",
   "execution_count": null,
   "metadata": {},
   "outputs": [],
   "source": []
  },
  {
   "cell_type": "code",
   "execution_count": null,
   "metadata": {},
   "outputs": [],
   "source": []
  },
  {
   "cell_type": "code",
   "execution_count": null,
   "metadata": {},
   "outputs": [],
   "source": []
  },
  {
   "cell_type": "code",
   "execution_count": null,
   "metadata": {},
   "outputs": [],
   "source": []
  },
  {
   "cell_type": "code",
   "execution_count": null,
   "metadata": {},
   "outputs": [],
   "source": []
  },
  {
   "cell_type": "markdown",
   "metadata": {},
   "source": [
    "## 欠損値"
   ]
  },
  {
   "cell_type": "code",
   "execution_count": null,
   "metadata": {},
   "outputs": [],
   "source": [
    "df_train.isnull().sum()"
   ]
  },
  {
   "cell_type": "code",
   "execution_count": null,
   "metadata": {},
   "outputs": [],
   "source": [
    "df_test.isnull().sum()"
   ]
  },
  {
   "cell_type": "code",
   "execution_count": null,
   "metadata": {},
   "outputs": [],
   "source": [
    "df_train[df_train['product_code'] == 'A']['attribute_0'].unique()"
   ]
  },
  {
   "cell_type": "code",
   "execution_count": null,
   "metadata": {},
   "outputs": [],
   "source": []
  },
  {
   "cell_type": "code",
   "execution_count": null,
   "metadata": {},
   "outputs": [],
   "source": []
  },
  {
   "cell_type": "code",
   "execution_count": null,
   "metadata": {},
   "outputs": [],
   "source": [
    "df_train"
   ]
  },
  {
   "cell_type": "code",
   "execution_count": null,
   "metadata": {},
   "outputs": [],
   "source": []
  },
  {
   "cell_type": "markdown",
   "metadata": {},
   "source": [
    "## 欠損を各プロダクトの中央値で補完する"
   ]
  },
  {
   "cell_type": "code",
   "execution_count": null,
   "metadata": {},
   "outputs": [],
   "source": [
    "f = lambda x: x.fillna(x.median())\n",
    "df_train = df_train.groupby('product_code').transform(f)\n",
    "df_test = df_test.groupby('product_code').transform(f)"
   ]
  },
  {
   "cell_type": "code",
   "execution_count": null,
   "metadata": {},
   "outputs": [],
   "source": []
  },
  {
   "cell_type": "code",
   "execution_count": null,
   "metadata": {},
   "outputs": [],
   "source": []
  },
  {
   "cell_type": "markdown",
   "metadata": {},
   "source": [
    "## loadingの検証"
   ]
  },
  {
   "cell_type": "code",
   "execution_count": null,
   "metadata": {},
   "outputs": [],
   "source": [
    "df_train.groupby([Config.target, 'product_code']).mean()"
   ]
  },
  {
   "cell_type": "code",
   "execution_count": null,
   "metadata": {},
   "outputs": [],
   "source": []
  }
 ],
 "metadata": {
  "interpreter": {
   "hash": "dc8a78a13283e3ba74119858067a74c2c7a55702e09c935fdd8fe4b244251524"
  },
  "kernelspec": {
   "display_name": "Python 3.9.7 64-bit ('3.9.7': pyenv)",
   "name": "python3"
  },
  "language_info": {
   "codemirror_mode": {
    "name": "ipython",
    "version": 3
   },
   "file_extension": ".py",
   "mimetype": "text/x-python",
   "name": "python",
   "nbconvert_exporter": "python",
   "pygments_lexer": "ipython3",
   "version": "3.9.7"
  }
 },
 "nbformat": 4,
 "nbformat_minor": 4
}
